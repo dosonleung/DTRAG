{
 "cells": [
  {
   "cell_type": "code",
   "execution_count": 1,
   "id": "d800c6ca-1261-4a2e-b9aa-d8f236076ac7",
   "metadata": {},
   "outputs": [],
   "source": [
    "import numpy as np\n",
    "import pandas as pd\n",
    "import seaborn as sns\n",
    "from sklearn.model_selection import train_test_split\n",
    "from typing import Tuple, Set, Optional, List, Dict, Union"
   ]
  },
  {
   "cell_type": "markdown",
   "id": "ced722ef-b271-4d78-b714-b57bc65b398b",
   "metadata": {},
   "source": [
    "### Load Data"
   ]
  },
  {
   "cell_type": "code",
   "execution_count": null,
   "id": "f6d6fcdf-88e1-402c-83c8-a956808b78e8",
   "metadata": {},
   "outputs": [],
   "source": [
    "data_table = pd.read_csv('./dataset/KDDCup99.csv')\n",
    "data_table.head()"
   ]
  },
  {
   "cell_type": "markdown",
   "id": "bdff3f62-c354-4b62-80d9-5a3e87412b9b",
   "metadata": {},
   "source": [
    "### (1) Highlight the label column "
   ]
  },
  {
   "cell_type": "code",
   "execution_count": 11,
   "id": "8a3e26d4-d64c-423f-889e-03a4921224d6",
   "metadata": {},
   "outputs": [],
   "source": [
    "def rename_column(table, old_col, new_col):\n",
    "    table.rename(columns={'label': 'label'})\n",
    "    print('rename_column...')\n",
    "    return table"
   ]
  },
  {
   "cell_type": "code",
   "execution_count": null,
   "id": "29c88908-2de3-4c64-8cc0-a4280ef8e132",
   "metadata": {},
   "outputs": [],
   "source": [
    "data_table['label'].value_counts()"
   ]
  },
  {
   "cell_type": "markdown",
   "id": "6d86f473-7124-4752-9e94-4ba75bb21f98",
   "metadata": {},
   "source": [
    "### (2) Sample Label if the number is too large"
   ]
  },
  {
   "cell_type": "code",
   "execution_count": 3,
   "id": "58878536-63ee-44c9-aa94-36152e44a194",
   "metadata": {},
   "outputs": [],
   "source": [
    "#For KDD\n",
    "def sample_rows_by_label(table, value, n):\n",
    "    # Filter rows where column 'c' equals value 'x'\n",
    "    filtered_rows = table.loc[table['label'] == value]\n",
    "    # Sample rows where column 'c' equals value 'x' (e.g., sampling 5 rows)\n",
    "    sampled_rows = filtered_rows.sample(n=n, random_state=42)\n",
    "    return sampled_rows\n",
    "\n",
    "def sample_rows(table, value:List, sample_n:List):\n",
    "    print('sample_rows ...')\n",
    "    assert len(value) == len(sample_n)\n",
    "    sample_rows = []\n",
    "    for index,(v,n) in enumerate(zip(value, sample_n)):\n",
    "        rows = sample_rows_by_label(table, v, n)\n",
    "        sample_rows.append(rows)\n",
    "    return pd.concat(sample_rows)"
   ]
  },
  {
   "cell_type": "code",
   "execution_count": null,
   "id": "d46739a7-e062-4080-a5e4-bd6892ff2cbd",
   "metadata": {},
   "outputs": [],
   "source": [
    "data_table = sample_rows(\n",
    "    table = data_table, \n",
    "    value = ['normal', 'back', 'satan', 'warezclient'],\n",
    "    sample_n = [1000, 1000, 1000, 1000]\n",
    ")\n",
    "print(data_table.shape)"
   ]
  },
  {
   "cell_type": "markdown",
   "id": "c322de44-cada-4688-a0f4-d29e85202b6c",
   "metadata": {},
   "source": [
    "### (3) Remove Unique Rows"
   ]
  },
  {
   "cell_type": "code",
   "execution_count": 4,
   "id": "54450990-cf37-4102-88a0-4fb4dac60fbd",
   "metadata": {},
   "outputs": [],
   "source": [
    "#remove the column with values are unique=1 or unique=all\n",
    "def remove_unique_columns(table, exclude_columns=[]):\n",
    "    print('remove_unique_columns ...')\n",
    "    vaild_cols = []\n",
    "    for col in table.columns:\n",
    "        if len(table[col].unique()) > 1 and len(table[col].unique()) < len(table) and not col in exclude_columns:\n",
    "            vaild_cols.append(col)\n",
    "    # Return a DataFrame with only non-unique columns\n",
    "    return table[vaild_cols]"
   ]
  },
  {
   "cell_type": "markdown",
   "id": "cb0c85ff-8cbf-4270-a7b6-702dc4d963e1",
   "metadata": {},
   "source": [
    "### (4) Imputation"
   ]
  },
  {
   "cell_type": "markdown",
   "id": "ed4df594-d554-43a2-87fc-d6c4feb129ed",
   "metadata": {},
   "source": [
    "### (4-1) fill mean for numerical data"
   ]
  },
  {
   "cell_type": "code",
   "execution_count": 5,
   "id": "c18b8075-60b9-4cee-9be5-c2868b59fb59",
   "metadata": {},
   "outputs": [],
   "source": [
    "def fill_with_average(table, exclude_columns=[]):\n",
    "    print('fill_with_average ...')\n",
    "    # Iterate over each column in the DataFrame\n",
    "    for column in table.columns:\n",
    "        # Check if the column is numeric\n",
    "        if pd.api.types.is_numeric_dtype(table[column]) and not column in exclude_columns:\n",
    "            # Calculate the mean of the column, ignoring NaN values\n",
    "            mean_value = table[column].mean()\n",
    "            # Fill NaN values with the mean and assign back to the column\n",
    "            table[column] = table[column].fillna(mean_value)\n",
    "    return table"
   ]
  },
  {
   "cell_type": "markdown",
   "id": "84de4e76-a2ce-42ef-bb32-b6b75f2e44db",
   "metadata": {},
   "source": [
    "### (4-2) encoding for category data"
   ]
  },
  {
   "cell_type": "code",
   "execution_count": 8,
   "id": "262fb9f9-3792-4617-9f27-dc66ce38bc58",
   "metadata": {},
   "outputs": [],
   "source": [
    "def fill_string_nan_with_none(table, exclude_columns=[]):\n",
    "    print('fill_string_nan_with_none ...')\n",
    "    # Iterate over each column in the DataFrame\n",
    "    for column in table.columns:\n",
    "        # Check if the column is of object type (usually string columns)\n",
    "        if table[column].dtype == 'object' or table[column].dtype == 'O' and not column in exclude_columns:\n",
    "            # Fill NaN values with 'None'\n",
    "            table[column] = table[column].fillna('None')\n",
    "    return table\n",
    "\n",
    "def onehot_table(table, prefix_sep='_is_', exclude_columns=[]):\n",
    "    # Identify string-type columns\n",
    "    print('onehot_table ...')\n",
    "    string_cols = table.select_dtypes(include=['object']).columns\n",
    "    string_cols_ = []\n",
    "    for col in string_cols:\n",
    "        if exclude_columns:\n",
    "            if col in exclude_columns:\n",
    "                continue\n",
    "        string_cols_.append(col)\n",
    "    # Create one-hot encoded DataFrame for string columns\n",
    "    one_hot_encoded_df = pd.get_dummies(table[string_cols_], drop_first=False, prefix_sep=prefix_sep)\n",
    "    # Concatenate the one-hot encoded columns with the original DataFrame (excluding original string columns)\n",
    "    df_encode = pd.concat([table.drop(columns=string_cols_), one_hot_encoded_df], axis=1)\n",
    "    return df_encode"
   ]
  },
  {
   "cell_type": "code",
   "execution_count": null,
   "id": "38e2ed45-dd9c-4cd5-9369-18f70bc96807",
   "metadata": {},
   "outputs": [],
   "source": [
    "data_table = fill_string_nan_with_none(data_table)\n",
    "data_table = onehot_table(data_table, exclude_columns=['label'])\n",
    "print(data_table.shape)"
   ]
  },
  {
   "cell_type": "code",
   "execution_count": 9,
   "id": "7d172d03-7d5b-409b-9ff8-4486ca0b375f",
   "metadata": {},
   "outputs": [],
   "source": [
    "def pipeline(table, funcs:List, args:List[Dict]):\n",
    "    assert len(funcs)==len(args)\n",
    "    table_ = table\n",
    "    for f,arg in zip(funcs, args):\n",
    "        table_ = f(table_, **arg)\n",
    "        print(table_.shape)\n",
    "    return table_"
   ]
  },
  {
   "cell_type": "code",
   "execution_count": 10,
   "id": "4dfb2f9a-3419-4d7c-85ad-a6c3e85eb355",
   "metadata": {},
   "outputs": [
    {
     "data": {
      "text/html": [
       "<div>\n",
       "<style scoped>\n",
       "    .dataframe tbody tr th:only-of-type {\n",
       "        vertical-align: middle;\n",
       "    }\n",
       "\n",
       "    .dataframe tbody tr th {\n",
       "        vertical-align: top;\n",
       "    }\n",
       "\n",
       "    .dataframe thead th {\n",
       "        text-align: right;\n",
       "    }\n",
       "</style>\n",
       "<table border=\"1\" class=\"dataframe\">\n",
       "  <thead>\n",
       "    <tr style=\"text-align: right;\">\n",
       "      <th></th>\n",
       "      <th>duration</th>\n",
       "      <th>protocol_type</th>\n",
       "      <th>service</th>\n",
       "      <th>flag</th>\n",
       "      <th>src_bytes</th>\n",
       "      <th>dst_bytes</th>\n",
       "      <th>land</th>\n",
       "      <th>wrong_fragment</th>\n",
       "      <th>urgent</th>\n",
       "      <th>hot</th>\n",
       "      <th>...</th>\n",
       "      <th>dst_host_srv_count</th>\n",
       "      <th>dst_host_same_srv_rate</th>\n",
       "      <th>dst_host_diff_srv_rate</th>\n",
       "      <th>dst_host_same_src_port_rate</th>\n",
       "      <th>dst_host_srv_diff_host_rate</th>\n",
       "      <th>dst_host_serror_rate</th>\n",
       "      <th>dst_host_srv_serror_rate</th>\n",
       "      <th>dst_host_rerror_rate</th>\n",
       "      <th>dst_host_srv_rerror_rate</th>\n",
       "      <th>label</th>\n",
       "    </tr>\n",
       "  </thead>\n",
       "  <tbody>\n",
       "    <tr>\n",
       "      <th>0</th>\n",
       "      <td>0</td>\n",
       "      <td>tcp</td>\n",
       "      <td>http</td>\n",
       "      <td>SF</td>\n",
       "      <td>181</td>\n",
       "      <td>5450</td>\n",
       "      <td>0</td>\n",
       "      <td>0</td>\n",
       "      <td>0</td>\n",
       "      <td>0</td>\n",
       "      <td>...</td>\n",
       "      <td>9</td>\n",
       "      <td>1.0</td>\n",
       "      <td>0.0</td>\n",
       "      <td>0.11</td>\n",
       "      <td>0.0</td>\n",
       "      <td>0.0</td>\n",
       "      <td>0.0</td>\n",
       "      <td>0.0</td>\n",
       "      <td>0.0</td>\n",
       "      <td>normal</td>\n",
       "    </tr>\n",
       "    <tr>\n",
       "      <th>1</th>\n",
       "      <td>0</td>\n",
       "      <td>tcp</td>\n",
       "      <td>http</td>\n",
       "      <td>SF</td>\n",
       "      <td>239</td>\n",
       "      <td>486</td>\n",
       "      <td>0</td>\n",
       "      <td>0</td>\n",
       "      <td>0</td>\n",
       "      <td>0</td>\n",
       "      <td>...</td>\n",
       "      <td>19</td>\n",
       "      <td>1.0</td>\n",
       "      <td>0.0</td>\n",
       "      <td>0.05</td>\n",
       "      <td>0.0</td>\n",
       "      <td>0.0</td>\n",
       "      <td>0.0</td>\n",
       "      <td>0.0</td>\n",
       "      <td>0.0</td>\n",
       "      <td>normal</td>\n",
       "    </tr>\n",
       "    <tr>\n",
       "      <th>2</th>\n",
       "      <td>0</td>\n",
       "      <td>tcp</td>\n",
       "      <td>http</td>\n",
       "      <td>SF</td>\n",
       "      <td>235</td>\n",
       "      <td>1337</td>\n",
       "      <td>0</td>\n",
       "      <td>0</td>\n",
       "      <td>0</td>\n",
       "      <td>0</td>\n",
       "      <td>...</td>\n",
       "      <td>29</td>\n",
       "      <td>1.0</td>\n",
       "      <td>0.0</td>\n",
       "      <td>0.03</td>\n",
       "      <td>0.0</td>\n",
       "      <td>0.0</td>\n",
       "      <td>0.0</td>\n",
       "      <td>0.0</td>\n",
       "      <td>0.0</td>\n",
       "      <td>normal</td>\n",
       "    </tr>\n",
       "    <tr>\n",
       "      <th>3</th>\n",
       "      <td>0</td>\n",
       "      <td>tcp</td>\n",
       "      <td>http</td>\n",
       "      <td>SF</td>\n",
       "      <td>219</td>\n",
       "      <td>1337</td>\n",
       "      <td>0</td>\n",
       "      <td>0</td>\n",
       "      <td>0</td>\n",
       "      <td>0</td>\n",
       "      <td>...</td>\n",
       "      <td>39</td>\n",
       "      <td>1.0</td>\n",
       "      <td>0.0</td>\n",
       "      <td>0.03</td>\n",
       "      <td>0.0</td>\n",
       "      <td>0.0</td>\n",
       "      <td>0.0</td>\n",
       "      <td>0.0</td>\n",
       "      <td>0.0</td>\n",
       "      <td>normal</td>\n",
       "    </tr>\n",
       "    <tr>\n",
       "      <th>4</th>\n",
       "      <td>0</td>\n",
       "      <td>tcp</td>\n",
       "      <td>http</td>\n",
       "      <td>SF</td>\n",
       "      <td>217</td>\n",
       "      <td>2032</td>\n",
       "      <td>0</td>\n",
       "      <td>0</td>\n",
       "      <td>0</td>\n",
       "      <td>0</td>\n",
       "      <td>...</td>\n",
       "      <td>49</td>\n",
       "      <td>1.0</td>\n",
       "      <td>0.0</td>\n",
       "      <td>0.02</td>\n",
       "      <td>0.0</td>\n",
       "      <td>0.0</td>\n",
       "      <td>0.0</td>\n",
       "      <td>0.0</td>\n",
       "      <td>0.0</td>\n",
       "      <td>normal</td>\n",
       "    </tr>\n",
       "  </tbody>\n",
       "</table>\n",
       "<p>5 rows × 42 columns</p>\n",
       "</div>"
      ],
      "text/plain": [
       "   duration protocol_type service flag  src_bytes  dst_bytes  land  \\\n",
       "0         0           tcp    http   SF        181       5450     0   \n",
       "1         0           tcp    http   SF        239        486     0   \n",
       "2         0           tcp    http   SF        235       1337     0   \n",
       "3         0           tcp    http   SF        219       1337     0   \n",
       "4         0           tcp    http   SF        217       2032     0   \n",
       "\n",
       "   wrong_fragment  urgent  hot  ...  dst_host_srv_count  \\\n",
       "0               0       0    0  ...                   9   \n",
       "1               0       0    0  ...                  19   \n",
       "2               0       0    0  ...                  29   \n",
       "3               0       0    0  ...                  39   \n",
       "4               0       0    0  ...                  49   \n",
       "\n",
       "   dst_host_same_srv_rate  dst_host_diff_srv_rate  \\\n",
       "0                     1.0                     0.0   \n",
       "1                     1.0                     0.0   \n",
       "2                     1.0                     0.0   \n",
       "3                     1.0                     0.0   \n",
       "4                     1.0                     0.0   \n",
       "\n",
       "   dst_host_same_src_port_rate  dst_host_srv_diff_host_rate  \\\n",
       "0                         0.11                          0.0   \n",
       "1                         0.05                          0.0   \n",
       "2                         0.03                          0.0   \n",
       "3                         0.03                          0.0   \n",
       "4                         0.02                          0.0   \n",
       "\n",
       "   dst_host_serror_rate  dst_host_srv_serror_rate  dst_host_rerror_rate  \\\n",
       "0                   0.0                       0.0                   0.0   \n",
       "1                   0.0                       0.0                   0.0   \n",
       "2                   0.0                       0.0                   0.0   \n",
       "3                   0.0                       0.0                   0.0   \n",
       "4                   0.0                       0.0                   0.0   \n",
       "\n",
       "   dst_host_srv_rerror_rate   label  \n",
       "0                       0.0  normal  \n",
       "1                       0.0  normal  \n",
       "2                       0.0  normal  \n",
       "3                       0.0  normal  \n",
       "4                       0.0  normal  \n",
       "\n",
       "[5 rows x 42 columns]"
      ]
     },
     "execution_count": 10,
     "metadata": {},
     "output_type": "execute_result"
    }
   ],
   "source": [
    "data_table = pd.read_csv('./dataset/KDDCup99.csv')\n",
    "data_table.head()"
   ]
  },
  {
   "cell_type": "code",
   "execution_count": 13,
   "id": "6d6ae9f2-03d4-4983-a9a8-6384f9e524d3",
   "metadata": {},
   "outputs": [
    {
     "name": "stdout",
     "output_type": "stream",
     "text": [
      "rename_column...\n",
      "(494020, 42)\n",
      "sample_rows ...\n",
      "(4000, 42)\n",
      "remove_unique_columns ...\n",
      "(4000, 34)\n",
      "fill_with_average ...\n",
      "(4000, 34)\n",
      "fill_string_nan_with_none ...\n",
      "(4000, 34)\n",
      "onehot_table ...\n",
      "(4000, 62)\n"
     ]
    }
   ],
   "source": [
    "data_table = pipeline(\n",
    "    table = data_table,\n",
    "    funcs = [\n",
    "        rename_column,\n",
    "        sample_rows,\n",
    "        remove_unique_columns,\n",
    "        fill_with_average,\n",
    "        fill_string_nan_with_none,\n",
    "        onehot_table\n",
    "    ],\n",
    "    args = [\n",
    "        {'old_col':'label', 'new_col':'label'},\n",
    "        {'value':['normal', 'back', 'satan', 'warezclient'], 'sample_n':[1000, 1000, 1000, 1000]},\n",
    "        {},\n",
    "        {},\n",
    "        {},\n",
    "        {'exclude_columns':['label']}\n",
    "    ]\n",
    ")"
   ]
  },
  {
   "cell_type": "code",
   "execution_count": null,
   "id": "01f25102-c356-48b9-b67a-661ee7d34c8f",
   "metadata": {},
   "outputs": [],
   "source": []
  }
 ],
 "metadata": {
  "kernelspec": {
   "display_name": "Python 3 (ipykernel)",
   "language": "python",
   "name": "python3"
  },
  "language_info": {
   "codemirror_mode": {
    "name": "ipython",
    "version": 3
   },
   "file_extension": ".py",
   "mimetype": "text/x-python",
   "name": "python",
   "nbconvert_exporter": "python",
   "pygments_lexer": "ipython3",
   "version": "3.10.12"
  }
 },
 "nbformat": 4,
 "nbformat_minor": 5
}
