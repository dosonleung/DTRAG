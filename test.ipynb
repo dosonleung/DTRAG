{
 "cells": [
  {
   "cell_type": "code",
   "execution_count": 1,
   "id": "0e878175-aff2-4dfb-acf3-a9c8a408f460",
   "metadata": {},
   "outputs": [],
   "source": [
    "import numpy as np\n",
    "import pandas as pd\n",
    "import seaborn as sns\n",
    "import matplotlib.pyplot as plt\n",
    "from sklearn.datasets import load_iris\n",
    "from sklearn.model_selection import train_test_split\n",
    "from base_tree import DecisionTreeClassifier\n",
    "from sklearn.tree import DecisionTreeClassifier as SKDecisionTreeClassifier\n",
    "from sklearn.tree import plot_tree\n",
    "pd.set_option('display.max_colwidth', 10)\n",
    "pd.set_option(\"display.max_columns\", None)"
   ]
  },
  {
   "cell_type": "markdown",
   "id": "ccd2893a-56b1-4daa-a125-c83bca4a0233",
   "metadata": {},
   "source": [
    "### Testing for CSIC-Web-2010 data"
   ]
  },
  {
   "cell_type": "code",
   "execution_count": 40,
   "id": "8d86e0ee-0af1-4cc5-889f-5da4bd55c498",
   "metadata": {},
   "outputs": [],
   "source": [
    "# Load the iris dataset\n",
    "data_table = pd.read_csv('./dataset/csic_database.csv')\n",
    "data_table = data_table.drop(columns=['classification'])\n",
    "# data_table = pd.read_csv('./dataset/KDDCup99.csv')\n",
    "# data_table.head()"
   ]
  },
  {
   "cell_type": "code",
   "execution_count": 41,
   "id": "82b8c329-ea7d-4569-a08a-b53b7b04117a",
   "metadata": {},
   "outputs": [
    {
     "data": {
      "text/plain": [
       "array([nan, 'Content-Length: 68', 'Content-Length: 63',\n",
       "       'Content-Length: 4', 'Content-Length: 33', 'Content-Length: 43',\n",
       "       'Content-Length: 232', 'Content-Length: 17', 'Content-Length: 234',\n",
       "       'Content-Length: 72', 'Content-Length: 66', 'Content-Length: 42',\n",
       "       'Content-Length: 231', 'Content-Length: 241', 'Content-Length: 71',\n",
       "       'Content-Length: 59', 'Content-Length: 240', 'Content-Length: 276',\n",
       "       'Content-Length: 67', 'Content-Length: 38', 'Content-Length: 267',\n",
       "       'Content-Length: 268', 'Content-Length: 74', 'Content-Length: 62',\n",
       "       'Content-Length: 37', 'Content-Length: 242', 'Content-Length: 266',\n",
       "       'Content-Length: 64', 'Content-Length: 248', 'Content-Length: 239',\n",
       "       'Content-Length: 271', 'Content-Length: 253',\n",
       "       'Content-Length: 251', 'Content-Length: 60', 'Content-Length: 246',\n",
       "       'Content-Length: 237', 'Content-Length: 262',\n",
       "       'Content-Length: 243', 'Content-Length: 65', 'Content-Length: 259',\n",
       "       'Content-Length: 249', 'Content-Length: 58', 'Content-Length: 247',\n",
       "       'Content-Length: 263', 'Content-Length: 73', 'Content-Length: 55',\n",
       "       'Content-Length: 75', 'Content-Length: 61', 'Content-Length: 264',\n",
       "       'Content-Length: 258', 'Content-Length: 250',\n",
       "       'Content-Length: 265', 'Content-Length: 254',\n",
       "       'Content-Length: 270', 'Content-Length: 257',\n",
       "       'Content-Length: 244', 'Content-Length: 256', 'Content-Length: 56',\n",
       "       'Content-Length: 252', 'Content-Length: 269',\n",
       "       'Content-Length: 222', 'Content-Length: 238',\n",
       "       'Content-Length: 235', 'Content-Length: 70', 'Content-Length: 57',\n",
       "       'Content-Length: 54', 'Content-Length: 245', 'Content-Length: 255',\n",
       "       'Content-Length: 260', 'Content-Length: 233',\n",
       "       'Content-Length: 291', 'Content-Length: 279',\n",
       "       'Content-Length: 224', 'Content-Length: 275',\n",
       "       'Content-Length: 261', 'Content-Length: 273',\n",
       "       'Content-Length: 236', 'Content-Length: 287',\n",
       "       'Content-Length: 282', 'Content-Length: 41', 'Content-Length: 303',\n",
       "       'Content-Length: 277', 'Content-Length: 272',\n",
       "       'Content-Length: 228', 'Content-Length: 229',\n",
       "       'Content-Length: 284', 'Content-Length: 288',\n",
       "       'Content-Length: 274', 'Content-Length: 280',\n",
       "       'Content-Length: 227', 'Content-Length: 290',\n",
       "       'Content-Length: 283', 'Content-Length: 292',\n",
       "       'Content-Length: 221', 'Content-Length: 285', 'Content-Length: 53',\n",
       "       'Content-Length: 278', 'Content-Length: 230', 'Content-Length: 69',\n",
       "       'Content-Length: 286', 'Content-Length: 296',\n",
       "       'Content-Length: 226', 'Content-Length: 281', 'Content-Length: 52',\n",
       "       'Content-Length: 217', 'Content-Length: 220', 'Content-Length: 36',\n",
       "       'Content-Length: 223', 'Content-Length: 294',\n",
       "       'Content-Length: 307', 'Content-Length: 35', 'Content-Length: 297',\n",
       "       'Content-Length: 225', 'Content-Length: 289', 'Content-Length: 40',\n",
       "       'Content-Length: 302', 'Content-Length: 301',\n",
       "       'Content-Length: 146', 'Content-Length: 77', 'Content-Length: 118',\n",
       "       'Content-Length: 5', 'Content-Length: 12', 'Content-Length: 34',\n",
       "       'Content-Length: 106', 'Content-Length: 45', 'Content-Length: 324',\n",
       "       'Content-Length: 308', 'Content-Length: 20', 'Content-Length: 18',\n",
       "       'Content-Length: 398', 'Content-Length: 136', 'Content-Length: 76',\n",
       "       'Content-Length: 135', 'Content-Length: 8', 'Content-Length: 113',\n",
       "       'Content-Length: 99', 'Content-Length: 44', 'Content-Length: 306',\n",
       "       'Content-Length: 83', 'Content-Length: 143', 'Content-Length: 9',\n",
       "       'Content-Length: 102', 'Content-Length: 132', 'Content-Length: 14',\n",
       "       'Content-Length: 80', 'Content-Length: 78', 'Content-Length: 125',\n",
       "       'Content-Length: 39', 'Content-Length: 335', 'Content-Length: 6',\n",
       "       'Content-Length: 309', 'Content-Length: 295', 'Content-Length: 47',\n",
       "       'Content-Length: 100', 'Content-Length: 25', 'Content-Length: 150',\n",
       "       'Content-Length: 21', 'Content-Length: 50', 'Content-Length: 51',\n",
       "       'Content-Length: 319', 'Content-Length: 299', 'Content-Length: 46',\n",
       "       'Content-Length: 91', 'Content-Length: 48', 'Content-Length: 30',\n",
       "       'Content-Length: 22', 'Content-Length: 87', 'Content-Length: 101',\n",
       "       'Content-Length: 153', 'Content-Length: 327', 'Content-Length: 7',\n",
       "       'Content-Length: 89', 'Content-Length: 116', 'Content-Length: 105',\n",
       "       'Content-Length: 111', 'Content-Length: 140',\n",
       "       'Content-Length: 169', 'Content-Length: 597',\n",
       "       'Content-Length: 304', 'Content-Length: 342',\n",
       "       'Content-Length: 119', 'Content-Length: 337',\n",
       "       'Content-Length: 331', 'Content-Length: 122',\n",
       "       'Content-Length: 179', 'Content-Length: 24', 'Content-Length: 104',\n",
       "       'Content-Length: 310', 'Content-Length: 112', 'Content-Length: 26',\n",
       "       'Content-Length: 32', 'Content-Length: 799', 'Content-Length: 88',\n",
       "       'Content-Length: 49', 'Content-Length: 84', 'Content-Length: 121',\n",
       "       'Content-Length: 573', 'Content-Length: 93', 'Content-Length: 341',\n",
       "       'Content-Length: 110', 'Content-Length: 115',\n",
       "       'Content-Length: 410', 'Content-Length: 311',\n",
       "       'Content-Length: 151', 'Content-Length: 86', 'Content-Length: 826',\n",
       "       'Content-Length: 19', 'Content-Length: 174', 'Content-Length: 79',\n",
       "       'Content-Length: 293', 'Content-Length: 300',\n",
       "       'Content-Length: 148', 'Content-Length: 152',\n",
       "       'Content-Length: 316', 'Content-Length: 82', 'Content-Length: 131',\n",
       "       'Content-Length: 835', 'Content-Length: 123',\n",
       "       'Content-Length: 126', 'Content-Length: 209',\n",
       "       'Content-Length: 437', 'Content-Length: 323',\n",
       "       'Content-Length: 626', 'Content-Length: 109',\n",
       "       'Content-Length: 313', 'Content-Length: 361',\n",
       "       'Content-Length: 567', 'Content-Length: 94', 'Content-Length: 97',\n",
       "       'Content-Length: 352', 'Content-Length: 325', 'Content-Length: 81',\n",
       "       'Content-Length: 819', 'Content-Length: 13', 'Content-Length: 312',\n",
       "       'Content-Length: 90', 'Content-Length: 114', 'Content-Length: 784',\n",
       "       'Content-Length: 107', 'Content-Length: 127',\n",
       "       'Content-Length: 139', 'Content-Length: 85', 'Content-Length: 333',\n",
       "       'Content-Length: 133', 'Content-Length: 318',\n",
       "       'Content-Length: 155', 'Content-Length: 317',\n",
       "       'Content-Length: 824', 'Content-Length: 120',\n",
       "       'Content-Length: 314', 'Content-Length: 340',\n",
       "       'Content-Length: 371', 'Content-Length: 346', 'Content-Length: 95',\n",
       "       'Content-Length: 344', 'Content-Length: 144',\n",
       "       'Content-Length: 199', 'Content-Length: 159',\n",
       "       'Content-Length: 330', 'Content-Length: 117',\n",
       "       'Content-Length: 124', 'Content-Length: 98', 'Content-Length: 403',\n",
       "       'Content-Length: 593', 'Content-Length: 329',\n",
       "       'Content-Length: 103', 'Content-Length: 366',\n",
       "       'Content-Length: 141', 'Content-Length: 321',\n",
       "       'Content-Length: 404', 'Content-Length: 332',\n",
       "       'Content-Length: 320', 'Content-Length: 173',\n",
       "       'Content-Length: 108', 'Content-Length: 149',\n",
       "       'Content-Length: 128', 'Content-Length: 631',\n",
       "       'Content-Length: 338', 'Content-Length: 305',\n",
       "       'Content-Length: 356', 'Content-Length: 129',\n",
       "       'Content-Length: 628', 'Content-Length: 130',\n",
       "       'Content-Length: 298', 'Content-Length: 138',\n",
       "       'Content-Length: 187', 'Content-Length: 345',\n",
       "       'Content-Length: 137', 'Content-Length: 142',\n",
       "       'Content-Length: 184', 'Content-Length: 369',\n",
       "       'Content-Length: 145', 'Content-Length: 96', 'Content-Length: 815',\n",
       "       'Content-Length: 336', 'Content-Length: 447',\n",
       "       'Content-Length: 161', 'Content-Length: 350',\n",
       "       'Content-Length: 621', 'Content-Length: 177',\n",
       "       'Content-Length: 421', 'Content-Length: 794',\n",
       "       'Content-Length: 203', 'Content-Length: 147',\n",
       "       'Content-Length: 165', 'Content-Length: 166',\n",
       "       'Content-Length: 367', 'Content-Length: 92', 'Content-Length: 322',\n",
       "       'Content-Length: 134', 'Content-Length: 391',\n",
       "       'Content-Length: 777', 'Content-Length: 355', 'Content-Length: 31',\n",
       "       'Content-Length: 429', 'Content-Length: 638',\n",
       "       'Content-Length: 167', 'Content-Length: 328',\n",
       "       'Content-Length: 218', 'Content-Length: 351',\n",
       "       'Content-Length: 334', 'Content-Length: 163',\n",
       "       'Content-Length: 581', 'Content-Length: 399',\n",
       "       'Content-Length: 343', 'Content-Length: 601',\n",
       "       'Content-Length: 171', 'Content-Length: 204',\n",
       "       'Content-Length: 326', 'Content-Length: 354',\n",
       "       'Content-Length: 339', 'Content-Length: 160',\n",
       "       'Content-Length: 365', 'Content-Length: 158',\n",
       "       'Content-Length: 182', 'Content-Length: 568',\n",
       "       'Content-Length: 428', 'Content-Length: 164',\n",
       "       'Content-Length: 213', 'Content-Length: 315',\n",
       "       'Content-Length: 636', 'Content-Length: 353',\n",
       "       'Content-Length: 359', 'Content-Length: 822',\n",
       "       'Content-Length: 368', 'Content-Length: 411',\n",
       "       'Content-Length: 616', 'Content-Length: 172',\n",
       "       'Content-Length: 389', 'Content-Length: 374',\n",
       "       'Content-Length: 836', 'Content-Length: 802',\n",
       "       'Content-Length: 208', 'Content-Length: 181',\n",
       "       'Content-Length: 219', 'Content-Length: 414',\n",
       "       'Content-Length: 820', 'Content-Length: 599',\n",
       "       'Content-Length: 615', 'Content-Length: 438',\n",
       "       'Content-Length: 412', 'Content-Length: 183',\n",
       "       'Content-Length: 602', 'Content-Length: 162',\n",
       "       'Content-Length: 154', 'Content-Length: 635',\n",
       "       'Content-Length: 205', 'Content-Length: 156',\n",
       "       'Content-Length: 625', 'Content-Length: 423',\n",
       "       'Content-Length: 779', 'Content-Length: 401',\n",
       "       'Content-Length: 386', 'Content-Length: 623',\n",
       "       'Content-Length: 348', 'Content-Length: 443',\n",
       "       'Content-Length: 441', 'Content-Length: 214',\n",
       "       'Content-Length: 620', 'Content-Length: 416',\n",
       "       'Content-Length: 347', 'Content-Length: 622',\n",
       "       'Content-Length: 385'], dtype=object)"
      ]
     },
     "execution_count": 41,
     "metadata": {},
     "output_type": "execute_result"
    }
   ],
   "source": [
    "data_table['lenght'].unique()"
   ]
  },
  {
   "cell_type": "code",
   "execution_count": 35,
   "id": "695bd886-ed62-477f-b6aa-017a7fd6079d",
   "metadata": {},
   "outputs": [
    {
     "name": "stdout",
     "output_type": "stream",
     "text": [
      "<class 'pandas.core.frame.DataFrame'>\n",
      "RangeIndex: 61065 entries, 0 to 61064\n",
      "Data columns (total 16 columns):\n",
      " #   Column           Non-Null Count  Dtype  \n",
      "---  ------           --------------  -----  \n",
      " 0   Unnamed: 0       61065 non-null  object \n",
      " 1   Method           61065 non-null  object \n",
      " 2   User-Agent       61065 non-null  object \n",
      " 3   Pragma           61065 non-null  object \n",
      " 4   Cache-Control    61065 non-null  object \n",
      " 5   Accept           60668 non-null  object \n",
      " 6   Accept-encoding  61065 non-null  object \n",
      " 7   Accept-charset   61065 non-null  object \n",
      " 8   language         61065 non-null  object \n",
      " 9   host             61065 non-null  object \n",
      " 10  cookie           61065 non-null  object \n",
      " 11  content-type     17977 non-null  object \n",
      " 12  connection       61065 non-null  object \n",
      " 13  lenght           17977 non-null  float64\n",
      " 14  content          17977 non-null  object \n",
      " 15  URL              61065 non-null  object \n",
      "dtypes: float64(1), object(15)\n",
      "memory usage: 7.5+ MB\n"
     ]
    }
   ],
   "source": [
    "data_table.info()"
   ]
  },
  {
   "cell_type": "code",
   "execution_count": 3,
   "id": "99f321f5-081f-43cd-a9b1-d3511cbac0fd",
   "metadata": {},
   "outputs": [
    {
     "data": {
      "text/html": [
       "<div>\n",
       "<style scoped>\n",
       "    .dataframe tbody tr th:only-of-type {\n",
       "        vertical-align: middle;\n",
       "    }\n",
       "\n",
       "    .dataframe tbody tr th {\n",
       "        vertical-align: top;\n",
       "    }\n",
       "\n",
       "    .dataframe thead th {\n",
       "        text-align: right;\n",
       "    }\n",
       "</style>\n",
       "<table border=\"1\" class=\"dataframe\">\n",
       "  <thead>\n",
       "    <tr style=\"text-align: right;\">\n",
       "      <th></th>\n",
       "      <th>Unnamed: 0</th>\n",
       "      <th>Method</th>\n",
       "      <th>User-Agent</th>\n",
       "      <th>Pragma</th>\n",
       "      <th>Cache-Control</th>\n",
       "      <th>Accept</th>\n",
       "      <th>Accept-encoding</th>\n",
       "      <th>Accept-charset</th>\n",
       "      <th>language</th>\n",
       "      <th>host</th>\n",
       "      <th>cookie</th>\n",
       "      <th>content-type</th>\n",
       "      <th>connection</th>\n",
       "      <th>lenght</th>\n",
       "      <th>content</th>\n",
       "      <th>URL</th>\n",
       "    </tr>\n",
       "  </thead>\n",
       "  <tbody>\n",
       "    <tr>\n",
       "      <th>0</th>\n",
       "      <td>Normal</td>\n",
       "      <td>GET</td>\n",
       "      <td>Mozill...</td>\n",
       "      <td>no-cache</td>\n",
       "      <td>no-cache</td>\n",
       "      <td>text/x...</td>\n",
       "      <td>x-gzip...</td>\n",
       "      <td>utf-8,...</td>\n",
       "      <td>en</td>\n",
       "      <td>localh...</td>\n",
       "      <td>JSESSI...</td>\n",
       "      <td>NaN</td>\n",
       "      <td>close</td>\n",
       "      <td>NaN</td>\n",
       "      <td>NaN</td>\n",
       "      <td>http:/...</td>\n",
       "    </tr>\n",
       "    <tr>\n",
       "      <th>1</th>\n",
       "      <td>Normal</td>\n",
       "      <td>GET</td>\n",
       "      <td>Mozill...</td>\n",
       "      <td>no-cache</td>\n",
       "      <td>no-cache</td>\n",
       "      <td>text/x...</td>\n",
       "      <td>x-gzip...</td>\n",
       "      <td>utf-8,...</td>\n",
       "      <td>en</td>\n",
       "      <td>localh...</td>\n",
       "      <td>JSESSI...</td>\n",
       "      <td>NaN</td>\n",
       "      <td>close</td>\n",
       "      <td>NaN</td>\n",
       "      <td>NaN</td>\n",
       "      <td>http:/...</td>\n",
       "    </tr>\n",
       "    <tr>\n",
       "      <th>2</th>\n",
       "      <td>Normal</td>\n",
       "      <td>POST</td>\n",
       "      <td>Mozill...</td>\n",
       "      <td>no-cache</td>\n",
       "      <td>no-cache</td>\n",
       "      <td>text/x...</td>\n",
       "      <td>x-gzip...</td>\n",
       "      <td>utf-8,...</td>\n",
       "      <td>en</td>\n",
       "      <td>localh...</td>\n",
       "      <td>JSESSI...</td>\n",
       "      <td>applic...</td>\n",
       "      <td>Connec...</td>\n",
       "      <td>Conten...</td>\n",
       "      <td>id=3&amp;n...</td>\n",
       "      <td>http:/...</td>\n",
       "    </tr>\n",
       "    <tr>\n",
       "      <th>3</th>\n",
       "      <td>Normal</td>\n",
       "      <td>GET</td>\n",
       "      <td>Mozill...</td>\n",
       "      <td>no-cache</td>\n",
       "      <td>no-cache</td>\n",
       "      <td>text/x...</td>\n",
       "      <td>x-gzip...</td>\n",
       "      <td>utf-8,...</td>\n",
       "      <td>en</td>\n",
       "      <td>localh...</td>\n",
       "      <td>JSESSI...</td>\n",
       "      <td>NaN</td>\n",
       "      <td>close</td>\n",
       "      <td>NaN</td>\n",
       "      <td>NaN</td>\n",
       "      <td>http:/...</td>\n",
       "    </tr>\n",
       "    <tr>\n",
       "      <th>4</th>\n",
       "      <td>Normal</td>\n",
       "      <td>POST</td>\n",
       "      <td>Mozill...</td>\n",
       "      <td>no-cache</td>\n",
       "      <td>no-cache</td>\n",
       "      <td>text/x...</td>\n",
       "      <td>x-gzip...</td>\n",
       "      <td>utf-8,...</td>\n",
       "      <td>en</td>\n",
       "      <td>localh...</td>\n",
       "      <td>JSESSI...</td>\n",
       "      <td>applic...</td>\n",
       "      <td>Connec...</td>\n",
       "      <td>Conten...</td>\n",
       "      <td>modo=e...</td>\n",
       "      <td>http:/...</td>\n",
       "    </tr>\n",
       "  </tbody>\n",
       "</table>\n",
       "</div>"
      ],
      "text/plain": [
       "  Unnamed: 0 Method User-Agent    Pragma Cache-Control     Accept  \\\n",
       "0     Normal    GET  Mozill...  no-cache   no-cache     text/x...   \n",
       "1     Normal    GET  Mozill...  no-cache   no-cache     text/x...   \n",
       "2     Normal   POST  Mozill...  no-cache   no-cache     text/x...   \n",
       "3     Normal    GET  Mozill...  no-cache   no-cache     text/x...   \n",
       "4     Normal   POST  Mozill...  no-cache   no-cache     text/x...   \n",
       "\n",
       "  Accept-encoding Accept-charset language       host     cookie content-type  \\\n",
       "0  x-gzip...       utf-8,...           en  localh...  JSESSI...        NaN     \n",
       "1  x-gzip...       utf-8,...           en  localh...  JSESSI...        NaN     \n",
       "2  x-gzip...       utf-8,...           en  localh...  JSESSI...  applic...     \n",
       "3  x-gzip...       utf-8,...           en  localh...  JSESSI...        NaN     \n",
       "4  x-gzip...       utf-8,...           en  localh...  JSESSI...  applic...     \n",
       "\n",
       "  connection     lenght    content        URL  \n",
       "0      close        NaN        NaN  http:/...  \n",
       "1      close        NaN        NaN  http:/...  \n",
       "2  Connec...  Conten...  id=3&n...  http:/...  \n",
       "3      close        NaN        NaN  http:/...  \n",
       "4  Connec...  Conten...  modo=e...  http:/...  "
      ]
     },
     "execution_count": 3,
     "metadata": {},
     "output_type": "execute_result"
    }
   ],
   "source": [
    "data_table.head()"
   ]
  },
  {
   "cell_type": "code",
   "execution_count": 6,
   "id": "2059b982-5ae1-459f-b804-3b883088b1c2",
   "metadata": {},
   "outputs": [],
   "source": [
    "# for CSIC\n",
    "def get_number_from_string(x):\n",
    "    if type(x) is float or type(x) is int:\n",
    "        return x\n",
    "    else:\n",
    "        return float(x.split(': ')[-1])\n",
    "#get the number in a string\n",
    "data_table['lenght'] = data_table['lenght'].apply(get_number_from_string)"
   ]
  },
  {
   "cell_type": "code",
   "execution_count": 32,
   "id": "6a282417-7efa-42de-a2aa-642bad95ceda",
   "metadata": {},
   "outputs": [],
   "source": [
    "data_table.to_csv('./dataset/csic_database_preprocessed.csv', index=False)"
   ]
  },
  {
   "cell_type": "code",
   "execution_count": null,
   "id": "89f17f7d-fd86-4132-9af1-2f1c760fde6f",
   "metadata": {},
   "outputs": [],
   "source": [
    "#For KDD\n",
    "def sample_rows(table, column, value, n):\n",
    "    # Filter rows where column 'c' equals value 'x'\n",
    "    filtered_rows = table.loc[table[column] == value]\n",
    "    # Sample rows where column 'c' equals value 'x' (e.g., sampling 5 rows)\n",
    "    sampled_rows = filtered_rows.sample(n=n, random_state=42)\n",
    "    return sampled_rows"
   ]
  },
  {
   "cell_type": "code",
   "execution_count": null,
   "id": "c5b0fb01-b46e-4cae-9839-05e92d238b91",
   "metadata": {},
   "outputs": [],
   "source": [
    "rows1 = sample_rows(data_table, 'label', 'normal', 1000)\n",
    "rows2 = sample_rows(data_table, 'label', 'back', 1000)\n",
    "rows3 = sample_rows(data_table, 'label', 'satan', 1000)\n",
    "rows4 = sample_rows(data_table, 'label', 'warezclient', 1000)\n",
    "data_table = pd.concat([rows1, rows2, rows3, rows4])"
   ]
  },
  {
   "cell_type": "code",
   "execution_count": null,
   "id": "151dcfa8-2fa1-4911-b76e-fe56f4804563",
   "metadata": {},
   "outputs": [],
   "source": [
    "data_table.describe(include='all')"
   ]
  },
  {
   "cell_type": "code",
   "execution_count": null,
   "id": "6b2aef17-ec82-4072-af71-465d81f44ec9",
   "metadata": {},
   "outputs": [],
   "source": [
    "#remove the column with values are unique=1 or unique=all\n",
    "def remove_unique_columns(df):\n",
    "    vaild_cols = []\n",
    "    for col in df.columns:\n",
    "        if len(df[col].unique()) > 1 and len(df[col].unique()) < len(df):\n",
    "            vaild_cols.append(col)\n",
    "    # Return a DataFrame with only non-unique columns\n",
    "    return df[vaild_cols]"
   ]
  },
  {
   "cell_type": "code",
   "execution_count": null,
   "id": "14aed0cf-ef43-4806-9ffc-4547222685c6",
   "metadata": {},
   "outputs": [],
   "source": [
    "data_table_ = remove_unique_columns(data_table)"
   ]
  },
  {
   "cell_type": "code",
   "execution_count": null,
   "id": "1e96977d-2137-437b-8040-175425476292",
   "metadata": {},
   "outputs": [],
   "source": [
    "data_table_.shape"
   ]
  },
  {
   "cell_type": "code",
   "execution_count": null,
   "id": "4d7826aa-fb05-45b4-8e5f-9040bcd7ef08",
   "metadata": {},
   "outputs": [],
   "source": [
    "# # for CSIC\n",
    "# def get_number_from_string(x):\n",
    "#     if type(x) is float or type(x) is int:\n",
    "#         return x\n",
    "#     else:\n",
    "#         return float(x.split(': ')[-1])\n",
    "# #get the number in a string\n",
    "# data_table_['lenght'] = data_table_['lenght'].apply(get_number_from_string)"
   ]
  },
  {
   "cell_type": "code",
   "execution_count": null,
   "id": "e2163bcc-9305-4ac5-8173-88668e656859",
   "metadata": {},
   "outputs": [],
   "source": [
    "def fill_with_average(df):\n",
    "    # Iterate over each column in the DataFrame\n",
    "    for column in df.columns:\n",
    "        # Check if the column is numeric\n",
    "        if pd.api.types.is_numeric_dtype(df[column]):\n",
    "            # Calculate the mean of the column, ignoring NaN values\n",
    "            mean_value = df[column].mean()\n",
    "            # Fill NaN values with the mean and assign back to the column\n",
    "            df[column] = df[column].fillna(mean_value)\n",
    "    return df\n",
    "\n",
    "def fill_string_nan_with_none(df):\n",
    "    # Iterate over each column in the DataFrame\n",
    "    for column in df.columns:\n",
    "        # Check if the column is of object type (usually string columns)\n",
    "        if df[column].dtype == 'object' or df[column].dtype == 'O':\n",
    "            # Fill NaN values with 'None'\n",
    "            df[column] = df[column].fillna('None')\n",
    "    return df"
   ]
  },
  {
   "cell_type": "code",
   "execution_count": null,
   "id": "c8e08476-414b-447f-8ea7-1900088abbc9",
   "metadata": {},
   "outputs": [],
   "source": [
    "#fill nan with average or 'None'\n",
    "data_table_ = fill_with_average(data_table_)\n",
    "data_table_ = fill_string_nan_with_none(data_table_)"
   ]
  },
  {
   "cell_type": "code",
   "execution_count": null,
   "id": "7bb739b2-d9b5-4afb-a05d-e31614ab5068",
   "metadata": {},
   "outputs": [],
   "source": [
    "def onehot_table(df, exclude_columns=None):\n",
    "    # Identify string-type columns\n",
    "    string_cols = df.select_dtypes(include=['object']).columns\n",
    "    string_cols_ = []\n",
    "    for col in string_cols:\n",
    "        if exclude_columns:\n",
    "            if col in exclude_columns:\n",
    "                continue\n",
    "        string_cols_.append(col)\n",
    "    # Create one-hot encoded DataFrame for string columns\n",
    "    one_hot_encoded_df = pd.get_dummies(df[string_cols_], drop_first=False, prefix_sep='_is_')\n",
    "    # Concatenate the one-hot encoded columns with the original DataFrame (excluding original string columns)\n",
    "    df_final = pd.concat([df.drop(columns=string_cols_), one_hot_encoded_df], axis=1)\n",
    "    return df_final"
   ]
  },
  {
   "cell_type": "code",
   "execution_count": null,
   "id": "f5c06658-133b-403b-85f2-c6ca65ca1fd9",
   "metadata": {},
   "outputs": [],
   "source": [
    "#onehot exclude time series data\n",
    "#For CSIC dataset\n",
    "#data_table_ = onehot_table(data_table_, exclude_columns=['Unnamed: 0', 'content', 'URL'])\n",
    "#For Breast dataset\n",
    "#data_table_ = onehot_table(data_table_, exclude_columns=['Status'])\n",
    "#For Econic dataset\n",
    "#data_table_ = onehot_table(data_table_, exclude_columns=['Bankrupt?'])\n",
    "#For economic\n",
    "data_table_ = onehot_table(data_table_, exclude_columns=['label'])"
   ]
  },
  {
   "cell_type": "code",
   "execution_count": null,
   "id": "f768fa66-e766-4e41-8298-b542346ee8de",
   "metadata": {
    "scrolled": true
   },
   "outputs": [],
   "source": [
    "data_table_.info()"
   ]
  },
  {
   "cell_type": "markdown",
   "id": "44e49393-b90c-48b1-b728-59660892a50e",
   "metadata": {},
   "source": [
    "### split train and test"
   ]
  },
  {
   "cell_type": "code",
   "execution_count": null,
   "id": "3fbf5832-3a2a-41bc-8a9e-5a2f58369375",
   "metadata": {},
   "outputs": [],
   "source": [
    "train_table, test_table = train_test_split(data_table_, test_size=0.5)"
   ]
  },
  {
   "cell_type": "markdown",
   "id": "ce249fcd-3cc8-40d1-98b8-4b35376dbce9",
   "metadata": {},
   "source": [
    "### split the time series column"
   ]
  },
  {
   "cell_type": "code",
   "execution_count": null,
   "id": "a62a2b0c-01ae-45dd-8ad3-d55de3df7415",
   "metadata": {},
   "outputs": [],
   "source": [
    "## for CSIC DATASET\n",
    "# train_series,test_series = train_table[['content', 'URL']],test_table[['content', 'URL']]\n",
    "# train_x = train_table.drop(columns=['Unnamed: 0', 'content', 'URL']).to_numpy()\n",
    "# train_y = train_table['Unnamed: 0'].apply(lambda x: 1 if x=='Anomalous' else 0).to_numpy()\n",
    "# test_x = test_table.drop(columns=['Unnamed: 0', 'content', 'URL']).to_numpy()\n",
    "# test_y = test_table['Unnamed: 0'].apply(lambda x: 1 if x=='Anomalous' else 0).to_numpy()\n",
    "## for breast dataset\n",
    "# train_x = train_table.drop(columns=['Status']).to_numpy()\n",
    "# train_y = train_table['Status'].apply(lambda x: 1 if x=='Alive' else 0).to_numpy()\n",
    "# test_x = test_table.drop(columns=['Status']).to_numpy()\n",
    "# test_y = test_table['Status'].apply(lambda x: 1 if x=='Alive' else 0).to_numpy()\n",
    "# ## for company bankruptcy\n",
    "# train_x = train_table.drop(columns=['Bankrupt?']).to_numpy()\n",
    "# train_y = train_table['Bankrupt?'].to_numpy()\n",
    "# test_x = test_table.drop(columns=['Bankrupt?']).to_numpy()\n",
    "# test_y = test_table['Bankrupt?'].to_numpy()\n",
    "## for glass\n",
    "# mapping = {1:0, 2:1, 3:2, 5:3, 6:4, 7:5}\n",
    "# train_x = train_table.drop(columns=['Type']).to_numpy()\n",
    "# train_y = train_table['Type'].apply(lambda x: mapping[x]).to_numpy()\n",
    "# test_x = test_table.drop(columns=['Type']).to_numpy()\n",
    "# test_y = test_table['Type'].apply(lambda x: mapping[x]).to_numpy()\n",
    "##for KDD\n",
    "mapping = {\n",
    "    'normal':0, \n",
    "    'back':1, #dos\n",
    "    'satan':2, #probe\n",
    "    'warezclient':3 #r2l\n",
    "}\n",
    "train_x = train_table.drop(columns=['label']).to_numpy()\n",
    "train_y = train_table['label'].apply(lambda x: mapping[x]).to_numpy()\n",
    "test_x = test_table.drop(columns=['label']).to_numpy()\n",
    "test_y = test_table['label'].apply(lambda x: mapping[x]).to_numpy()"
   ]
  },
  {
   "cell_type": "code",
   "execution_count": null,
   "id": "73c232a9-768f-49b2-8075-83c89d444fbf",
   "metadata": {},
   "outputs": [],
   "source": [
    "import imp\n",
    "import base_tree\n",
    "imp.reload(base_tree)\n",
    "from base_tree import DecisionTreeClassifier"
   ]
  },
  {
   "cell_type": "code",
   "execution_count": null,
   "id": "8a4221c3-8135-4c3b-9b5a-93e76c8e3261",
   "metadata": {},
   "outputs": [],
   "source": [
    "data_table.describe(include='all')"
   ]
  },
  {
   "cell_type": "code",
   "execution_count": null,
   "id": "897fceb5-0436-43a2-b1e1-e61a4ea1c42d",
   "metadata": {},
   "outputs": [],
   "source": [
    "data_table['src_bytes'].max()"
   ]
  },
  {
   "cell_type": "code",
   "execution_count": null,
   "id": "60fb25ed-4dc5-4a47-8768-5c367aec08ce",
   "metadata": {},
   "outputs": [],
   "source": [
    "# Create a Decision Tree classifier\n",
    "feature_names = train_table.drop(columns=['label']).columns\n",
    "class_names = list(mapping.keys())\n",
    "clf = DecisionTreeClassifier(\n",
    "    criterion='gini', \n",
    "    random_state=42, \n",
    "    build_method='bfs',\n",
    "    max_depth=7, \n",
    "    feature_name=feature_names,\n",
    "    class_name=class_names\n",
    ")\n",
    "# Fit the classifier to the training data\n",
    "clf.fit(train_x, train_y)\n",
    "# Print the accuracy of the model\n",
    "accuracy = clf.score(test_x, test_y)\n",
    "print(f\"Accuracy: {accuracy:.2f}\")"
   ]
  },
  {
   "cell_type": "code",
   "execution_count": null,
   "id": "35b0a85d-9a01-4729-a185-16ee5cfb05f0",
   "metadata": {},
   "outputs": [],
   "source": [
    "from visual import print_tree\n",
    "print_tree(\n",
    "    tree=clf,\n",
    "    feature_names=feature_names,\n",
    "    class_names=class_names,\n",
    "    is_classifier=True,\n",
    "    figsize = (16, 12),\n",
    "    fontsize = 10,\n",
    "    dpi=200\n",
    ")"
   ]
  },
  {
   "cell_type": "code",
   "execution_count": null,
   "id": "83560e3b-1847-489f-93e9-c1861dc9cc79",
   "metadata": {},
   "outputs": [],
   "source": [
    "clf._n_features"
   ]
  },
  {
   "cell_type": "code",
   "execution_count": null,
   "id": "5d486ca9-ba17-470d-99c0-14540a759e90",
   "metadata": {},
   "outputs": [],
   "source": [
    "data = load_breast_cancer()\n",
    "train_x, test_x, train_y, test_y = train_test_split(data.data, data.target, test_size=0.5)"
   ]
  },
  {
   "cell_type": "code",
   "execution_count": null,
   "id": "fe1ac1d1-be83-470d-a143-c0874223708f",
   "metadata": {},
   "outputs": [],
   "source": [
    "pd.DataFrame(data['data'], columns=data.feature_names).describe(include='all')"
   ]
  },
  {
   "cell_type": "code",
   "execution_count": null,
   "id": "23979f72-7db1-448f-8050-ce67711a7b26",
   "metadata": {},
   "outputs": [],
   "source": [
    "data.feature_names[7]"
   ]
  },
  {
   "cell_type": "code",
   "execution_count": null,
   "id": "d3d5a1db-6f46-49f4-b613-949e909fe6bc",
   "metadata": {},
   "outputs": [],
   "source": [
    "data.target_names"
   ]
  },
  {
   "cell_type": "code",
   "execution_count": null,
   "id": "c1a0d853-f835-4eb8-ada9-1f3a08a75c1d",
   "metadata": {},
   "outputs": [],
   "source": [
    "import imp\n",
    "import base_tree\n",
    "imp.reload(base_tree)\n",
    "from base_tree import DecisionTreeClassifier"
   ]
  },
  {
   "cell_type": "code",
   "execution_count": null,
   "id": "4edeaacc-8ae4-4947-af00-a6913c8d9c31",
   "metadata": {},
   "outputs": [],
   "source": [
    "# Create a Decision Tree classifier\n",
    "clf = DecisionTreeClassifier(\n",
    "    criterion='gini', \n",
    "    random_state=42, \n",
    "    max_depth=6,\n",
    "    feature_name=data.feature_names,\n",
    "    class_name=data.target_names\n",
    ")\n",
    "# Fit the classifier to the training data\n",
    "clf.fit(train_x, train_y)\n",
    "# Print the accuracy of the model\n",
    "accuracy = clf.score(test_x, test_y)\n",
    "print(f\"Accuracy: {accuracy:.2f}\")"
   ]
  },
  {
   "cell_type": "code",
   "execution_count": null,
   "id": "699ed117-47d6-4af7-964d-f8726741e7b5",
   "metadata": {
    "scrolled": true
   },
   "outputs": [],
   "source": [
    "# _, ax = plt.subplots(figsize = (16, 16), dpi=200)\n",
    "# plot_tree(\n",
    "#     clf,\n",
    "#     feature_names=data.feature_names,\n",
    "#     class_names=data.target_names,\n",
    "#     filled=True,\n",
    "#     ax = ax\n",
    "# )"
   ]
  },
  {
   "cell_type": "code",
   "execution_count": null,
   "id": "ce1fe5b5-ea1a-44bd-8a3f-b9facdd78edb",
   "metadata": {},
   "outputs": [],
   "source": [
    "from visual import print_tree"
   ]
  },
  {
   "cell_type": "code",
   "execution_count": null,
   "id": "2d50dfe5-102e-4d4d-9872-6ba41ceef994",
   "metadata": {},
   "outputs": [],
   "source": [
    "print_tree(\n",
    "    tree=clf,\n",
    "    feature_names=data.feature_names,\n",
    "    class_names=data.target_names,\n",
    "    is_classifier=True,\n",
    "    figsize = (16, 12),\n",
    "    fontsize = 10,\n",
    "    dpi=200\n",
    ")"
   ]
  },
  {
   "cell_type": "code",
   "execution_count": null,
   "id": "20f21a1a-beea-4404-a489-f46f29c6ff51",
   "metadata": {},
   "outputs": [],
   "source": [
    "import imp\n",
    "import prompt_adapter\n",
    "imp.reload(prompt_adapter)\n",
    "from prompt_adapter import _get_condition,_get_query,get_options\n",
    "from prompt_adapter import get_explanation_prompt, get_explanation_result, get_selection_prompt, get_selection_result"
   ]
  },
  {
   "cell_type": "code",
   "execution_count": null,
   "id": "cf1e1bc6-0a13-413d-8f52-1b23e0556bf8",
   "metadata": {},
   "outputs": [],
   "source": [
    "query = _get_query(\n",
    "    feature='Al Aluminum',\n",
    "    val_range=(0.1, 0.5),\n",
    "    det='<',\n",
    "    val=0.25,\n",
    "    condition={'possibility':97.3, 'result':'building_windows_non_float_processed'}\n",
    ")\n",
    "print(query)"
   ]
  },
  {
   "cell_type": "code",
   "execution_count": null,
   "id": "440eeaa3-2d2b-4278-85db-c5c5ab834cc1",
   "metadata": {
    "scrolled": true
   },
   "outputs": [],
   "source": [
    "desc='This is a Glass Identification Data Set from UCI. It contains 10 attributes with unit measurement expect RI that weight \\\n",
    "percent in corresponding oxide. The response is glass type containing building_windows_float_processed, \\\n",
    "building_windows_non_float_processed, vehicle_windows_float_processed, containers, tableware and headlamps.'\n",
    "role='doctor'\n",
    "query={\n",
    "    'feature':'Al Aluminum',\n",
    "    'val_range':(0.1, 0.5),\n",
    "    'det':'<',\n",
    "    'val':0.25,\n",
    "    'condition':{'possibility':97.3, 'result':'building_windows_non_float_processed'}\n",
    "}\n",
    "premise='Ba < 0.335, which indicates that the glass has a low barium content, suggesting it is less likely to be a type of glass \\\n",
    "that requires a high density or high refractive index, such as certain types of optical glass, and Mg > 2.78, which suggests \\\n",
    "that the glass may be designed for improved chemical durability and resistance to weathering. Magnesium is not typically present \\\n",
    "in high amounts in standard soda-lime glass, which is commonly used in windows. Those glass of above attributes are \\\n",
    "likely to be non-float processed.'\n",
    "print(get_explanation_prompt(\n",
    "    desc=desc,\n",
    "    role=role,\n",
    "    query=query,\n",
    "    premise=premise\n",
    "))"
   ]
  },
  {
   "cell_type": "code",
   "execution_count": null,
   "id": "7b2fc448-c2b7-4e3e-a94c-819abff5cf5b",
   "metadata": {},
   "outputs": [],
   "source": [
    "response = 'Iris Setosa is typically distinguished by its smaller petal width, usually less than 0.8 cm, \\\n",
    "compared to Iris Versicolor and Iris Virginica. This characteristic likely results from evolutionary adaptations \\\n",
    "to specific ecological niches or pollination strategies. As such, a petal width below 0.8 cm is a strong indicator of \\\n",
    "Iris Setosa, aiding botanists in species classification.'\n",
    "status,res = get_explanation_result(response)\n",
    "print(status, res)"
   ]
  },
  {
   "cell_type": "code",
   "execution_count": null,
   "id": "45751d28-1694-430d-a620-791cd5de980e",
   "metadata": {},
   "outputs": [],
   "source": [
    "opts = [\n",
    "    'RI refractive index, range from 1.51 to 1.53, if it is less than 1.517, if has 73% possibility to be building_windows_non_float_processed.',\n",
    "    'Ca Calcium, range from 5.4 to 16.2, if it is greater than 8.235, it has 50% possibility to be building_windows_float_processed.',\n",
    "    'Al Aluminum, range from 0.29 to 3.5, if it is greater than 1.42, it has 70% possibility to be building_windows_non_float_processed.',\n",
    "    'K Potassium, range from 0.0 to 6.21, if it is less than 0.03, it has 70% possibility to be tableware.'\n",
    "]\n",
    "opt_dict,opt_text = get_options(opts)\n",
    "print(opt_dict)\n",
    "print(opt_text)"
   ]
  },
  {
   "cell_type": "code",
   "execution_count": null,
   "id": "90b0c011-b84e-453d-9b0c-062de57cbf66",
   "metadata": {},
   "outputs": [],
   "source": [
    "desc='This is a Glass Identification Data Set from UCI. It contains 10 attributes with unit measurement expect RI that weight \\\n",
    "percent in corresponding oxide. The response is glass type containing building_windows_float_processed, \\\n",
    "building_windows_non_float_processed, vehicle_windows_float_processed, containers, tableware and headlamps.'\n",
    "role='doctor'\n",
    "query={\n",
    "    'feature':'Al Aluminum',\n",
    "    'val_range':(0.1, 0.5),\n",
    "    'det':'<',\n",
    "    'val':0.25,\n",
    "    'condition':{'possibility':97.3, 'result':'building_windows_non_float_processed'}\n",
    "}\n",
    "premise='Ba < 0.335, which indicates that the glass has a low barium content, suggesting it is less likely to be a type of glass \\\n",
    "that requires a high density or high refractive index, such as certain types of optical glass, and Mg > 2.78, which suggests \\\n",
    "that the glass may be designed for improved chemical durability and resistance to weathering. Magnesium is not typically present \\\n",
    "in high amounts in standard soda-lime glass, which is commonly used in windows. Those glass of above attributes are \\\n",
    "likely to be non-float processed.'\n",
    "print(get_selection_prompt(\n",
    "    desc=desc,\n",
    "    role=role,\n",
    "    options=opt_text,\n",
    "    premise=premise\n",
    "))"
   ]
  },
  {
   "cell_type": "code",
   "execution_count": null,
   "id": "58ee79bd-f3e7-4f9a-9b01-1a4b762db500",
   "metadata": {},
   "outputs": [],
   "source": [
    "response = '{C} \\\n",
    "The option A Refractive Index: Suggests \"building_windows_non_float_processed\" with 73% probability if RI < 1.517. \\\n",
    "However, this is less relevant since the glass is unlikely to be float processed. The option B Calcium: \\\n",
    "Indicates a 50% chance of \"building_windows_float_processed\" if Ca > 8.235, but float processing is unlikely given the conditions. \\\n",
    "The option C Aluminum: Suggests \"building_windows_non_float_processed\" with 70% probability if Al > 1.42. \\\n",
    "This aligns well with the instances memtioned with the question, making it a strong candidate. \\\n",
    "Option D Potassium: Indicates a 70% chance of being \"tableware\" if K < 0.03. This is a plausible option given the characteristics. \\\n",
    "Conclusion: Option C (Aluminum) is the best choice, given its high probability and alignment with non-float processed glass.'\n",
    "status,res = get_selection_result('ABCDEFGHIJKLMNOPQRSTUVWXYZ', response)\n",
    "print(status)\n",
    "print(res[0])\n",
    "print(res[-1])"
   ]
  },
  {
   "cell_type": "code",
   "execution_count": 42,
   "id": "3c85dbc8-0092-47fd-a48f-ac9e8b8c2e9e",
   "metadata": {},
   "outputs": [
    {
     "name": "stdout",
     "output_type": "stream",
     "text": [
      "Defaulting to user installation because normal site-packages is not writeable\n",
      "Requirement already satisfied: pandas in /home/liangxj/.local/lib/python3.10/site-packages (2.2.2)\n",
      "Requirement already satisfied: pyarrow in /home/liangxj/.local/lib/python3.10/site-packages (16.1.0)\n",
      "Requirement already satisfied: pytz>=2020.1 in /usr/lib/python3/dist-packages (from pandas) (2022.1)\n",
      "Requirement already satisfied: tzdata>=2022.7 in /home/liangxj/.local/lib/python3.10/site-packages (from pandas) (2024.1)\n",
      "Requirement already satisfied: python-dateutil>=2.8.2 in /home/liangxj/.local/lib/python3.10/site-packages (from pandas) (2.9.0.post0)\n",
      "Requirement already satisfied: numpy>=1.22.4 in /home/liangxj/.local/lib/python3.10/site-packages (from pandas) (1.26.4)\n",
      "Requirement already satisfied: six>=1.5 in /usr/lib/python3/dist-packages (from python-dateutil>=2.8.2->pandas) (1.16.0)\n"
     ]
    }
   ],
   "source": [
    "# 安装 pandas and pyarrow:\n",
    "!pip install pandas pyarrow"
   ]
  },
  {
   "cell_type": "code",
   "execution_count": null,
   "id": "ea60b55f-1bb7-4bef-95cc-4286372e09a1",
   "metadata": {},
   "outputs": [],
   "source": []
  }
 ],
 "metadata": {
  "kernelspec": {
   "display_name": "Python 3 (ipykernel)",
   "language": "python",
   "name": "python3"
  },
  "language_info": {
   "codemirror_mode": {
    "name": "ipython",
    "version": 3
   },
   "file_extension": ".py",
   "mimetype": "text/x-python",
   "name": "python",
   "nbconvert_exporter": "python",
   "pygments_lexer": "ipython3",
   "version": "3.10.12"
  }
 },
 "nbformat": 4,
 "nbformat_minor": 5
}
