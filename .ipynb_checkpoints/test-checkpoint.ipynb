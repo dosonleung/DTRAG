{
 "cells": [
  {
   "cell_type": "code",
   "execution_count": 15,
   "id": "0e878175-aff2-4dfb-acf3-a9c8a408f460",
   "metadata": {},
   "outputs": [],
   "source": [
    "import numpy as np\n",
    "import pandas as pd\n",
    "import seaborn as sns\n",
    "import matplotlib.pyplot as plt\n",
    "from sklearn.datasets import load_iris\n",
    "from sklearn.model_selection import train_test_split\n",
    "from base_tree import DecisionTreeClassifier\n",
    "from sklearn.tree import DecisionTreeClassifier as SKDecisionTreeClassifier\n",
    "from sklearn.tree import plot_tree\n",
    "pd.set_option('display.max_colwidth', 10)\n",
    "pd.set_option(\"display.max_columns\", None)"
   ]
  },
  {
   "cell_type": "markdown",
   "id": "ccd2893a-56b1-4daa-a125-c83bca4a0233",
   "metadata": {},
   "source": [
    "### Testing for CSIC-Web-2010 data"
   ]
  },
  {
   "cell_type": "code",
   "execution_count": null,
   "id": "8d86e0ee-0af1-4cc5-889f-5da4bd55c498",
   "metadata": {},
   "outputs": [],
   "source": [
    "# Load the iris dataset\n",
    "# data_table = pd.read_csv('./dataset/csic_database.csv')\n",
    "# data_table = data_table.drop(columns=['classification'])\n",
    "data_table = pd.read_csv('./dataset/KDDCup99.csv')\n",
    "data_table.head()"
   ]
  },
  {
   "cell_type": "code",
   "execution_count": null,
   "id": "80978d4d-1f8d-4ca2-823a-071f16ff51ff",
   "metadata": {
    "scrolled": true
   },
   "outputs": [],
   "source": [
    "# For KDD data\n",
    "data_table['label'].value_counts()"
   ]
  },
  {
   "cell_type": "code",
   "execution_count": null,
   "id": "89f17f7d-fd86-4132-9af1-2f1c760fde6f",
   "metadata": {},
   "outputs": [],
   "source": [
    "#For KDD\n",
    "def sample_rows(table, column, value, n):\n",
    "    # Filter rows where column 'c' equals value 'x'\n",
    "    filtered_rows = table.loc[table[column] == value]\n",
    "    # Sample rows where column 'c' equals value 'x' (e.g., sampling 5 rows)\n",
    "    sampled_rows = filtered_rows.sample(n=n, random_state=42)\n",
    "    return sampled_rows"
   ]
  },
  {
   "cell_type": "code",
   "execution_count": null,
   "id": "c5b0fb01-b46e-4cae-9839-05e92d238b91",
   "metadata": {},
   "outputs": [],
   "source": [
    "rows1 = sample_rows(data_table, 'label', 'normal', 1000)\n",
    "rows2 = sample_rows(data_table, 'label', 'back', 1000)\n",
    "rows3 = sample_rows(data_table, 'label', 'satan', 1000)\n",
    "rows4 = sample_rows(data_table, 'label', 'warezclient', 1000)\n",
    "data_table = pd.concat([rows1, rows2, rows3, rows4])"
   ]
  },
  {
   "cell_type": "code",
   "execution_count": null,
   "id": "151dcfa8-2fa1-4911-b76e-fe56f4804563",
   "metadata": {},
   "outputs": [],
   "source": [
    "data_table.describe(include='all')"
   ]
  },
  {
   "cell_type": "code",
   "execution_count": null,
   "id": "6b2aef17-ec82-4072-af71-465d81f44ec9",
   "metadata": {},
   "outputs": [],
   "source": [
    "#remove the column with values are unique=1 or unique=all\n",
    "def remove_unique_columns(df):\n",
    "    vaild_cols = []\n",
    "    for col in df.columns:\n",
    "        if len(df[col].unique()) > 1 and len(df[col].unique()) < len(df):\n",
    "            vaild_cols.append(col)\n",
    "    # Return a DataFrame with only non-unique columns\n",
    "    return df[vaild_cols]"
   ]
  },
  {
   "cell_type": "code",
   "execution_count": null,
   "id": "14aed0cf-ef43-4806-9ffc-4547222685c6",
   "metadata": {},
   "outputs": [],
   "source": [
    "data_table_ = remove_unique_columns(data_table)"
   ]
  },
  {
   "cell_type": "code",
   "execution_count": null,
   "id": "1e96977d-2137-437b-8040-175425476292",
   "metadata": {},
   "outputs": [],
   "source": [
    "data_table_.shape"
   ]
  },
  {
   "cell_type": "code",
   "execution_count": null,
   "id": "4d7826aa-fb05-45b4-8e5f-9040bcd7ef08",
   "metadata": {},
   "outputs": [],
   "source": [
    "# # for CSIC\n",
    "# def get_number_from_string(x):\n",
    "#     if type(x) is float or type(x) is int:\n",
    "#         return x\n",
    "#     else:\n",
    "#         return float(x.split(': ')[-1])\n",
    "# #get the number in a string\n",
    "# data_table_['lenght'] = data_table_['lenght'].apply(get_number_from_string)"
   ]
  },
  {
   "cell_type": "code",
   "execution_count": null,
   "id": "e2163bcc-9305-4ac5-8173-88668e656859",
   "metadata": {},
   "outputs": [],
   "source": [
    "def fill_with_average(df):\n",
    "    # Iterate over each column in the DataFrame\n",
    "    for column in df.columns:\n",
    "        # Check if the column is numeric\n",
    "        if pd.api.types.is_numeric_dtype(df[column]):\n",
    "            # Calculate the mean of the column, ignoring NaN values\n",
    "            mean_value = df[column].mean()\n",
    "            # Fill NaN values with the mean and assign back to the column\n",
    "            df[column] = df[column].fillna(mean_value)\n",
    "    return df\n",
    "\n",
    "def fill_string_nan_with_none(df):\n",
    "    # Iterate over each column in the DataFrame\n",
    "    for column in df.columns:\n",
    "        # Check if the column is of object type (usually string columns)\n",
    "        if df[column].dtype == 'object' or df[column].dtype == 'O':\n",
    "            # Fill NaN values with 'None'\n",
    "            df[column] = df[column].fillna('None')\n",
    "    return df"
   ]
  },
  {
   "cell_type": "code",
   "execution_count": null,
   "id": "c8e08476-414b-447f-8ea7-1900088abbc9",
   "metadata": {},
   "outputs": [],
   "source": [
    "#fill nan with average or 'None'\n",
    "data_table_ = fill_with_average(data_table_)\n",
    "data_table_ = fill_string_nan_with_none(data_table_)"
   ]
  },
  {
   "cell_type": "code",
   "execution_count": null,
   "id": "7bb739b2-d9b5-4afb-a05d-e31614ab5068",
   "metadata": {},
   "outputs": [],
   "source": [
    "def onehot_table(df, exclude_columns=None):\n",
    "    # Identify string-type columns\n",
    "    string_cols = df.select_dtypes(include=['object']).columns\n",
    "    string_cols_ = []\n",
    "    for col in string_cols:\n",
    "        if exclude_columns:\n",
    "            if col in exclude_columns:\n",
    "                continue\n",
    "        string_cols_.append(col)\n",
    "    # Create one-hot encoded DataFrame for string columns\n",
    "    one_hot_encoded_df = pd.get_dummies(df[string_cols_], drop_first=False, prefix_sep='_is_')\n",
    "    # Concatenate the one-hot encoded columns with the original DataFrame (excluding original string columns)\n",
    "    df_final = pd.concat([df.drop(columns=string_cols_), one_hot_encoded_df], axis=1)\n",
    "    return df_final"
   ]
  },
  {
   "cell_type": "code",
   "execution_count": null,
   "id": "f5c06658-133b-403b-85f2-c6ca65ca1fd9",
   "metadata": {},
   "outputs": [],
   "source": [
    "#onehot exclude time series data\n",
    "#For CSIC dataset\n",
    "#data_table_ = onehot_table(data_table_, exclude_columns=['Unnamed: 0', 'content', 'URL'])\n",
    "#For Breast dataset\n",
    "#data_table_ = onehot_table(data_table_, exclude_columns=['Status'])\n",
    "#For Econic dataset\n",
    "#data_table_ = onehot_table(data_table_, exclude_columns=['Bankrupt?'])\n",
    "#For economic\n",
    "data_table_ = onehot_table(data_table_, exclude_columns=['label'])"
   ]
  },
  {
   "cell_type": "code",
   "execution_count": null,
   "id": "f768fa66-e766-4e41-8298-b542346ee8de",
   "metadata": {
    "scrolled": true
   },
   "outputs": [],
   "source": [
    "data_table_.info()"
   ]
  },
  {
   "cell_type": "markdown",
   "id": "44e49393-b90c-48b1-b728-59660892a50e",
   "metadata": {},
   "source": [
    "### split train and test"
   ]
  },
  {
   "cell_type": "code",
   "execution_count": null,
   "id": "3fbf5832-3a2a-41bc-8a9e-5a2f58369375",
   "metadata": {},
   "outputs": [],
   "source": [
    "train_table, test_table = train_test_split(data_table_, test_size=0.5)"
   ]
  },
  {
   "cell_type": "markdown",
   "id": "ce249fcd-3cc8-40d1-98b8-4b35376dbce9",
   "metadata": {},
   "source": [
    "### split the time series column"
   ]
  },
  {
   "cell_type": "code",
   "execution_count": null,
   "id": "a62a2b0c-01ae-45dd-8ad3-d55de3df7415",
   "metadata": {},
   "outputs": [],
   "source": [
    "## for CSIC DATASET\n",
    "# train_series,test_series = train_table[['content', 'URL']],test_table[['content', 'URL']]\n",
    "# train_x = train_table.drop(columns=['Unnamed: 0', 'content', 'URL']).to_numpy()\n",
    "# train_y = train_table['Unnamed: 0'].apply(lambda x: 1 if x=='Anomalous' else 0).to_numpy()\n",
    "# test_x = test_table.drop(columns=['Unnamed: 0', 'content', 'URL']).to_numpy()\n",
    "# test_y = test_table['Unnamed: 0'].apply(lambda x: 1 if x=='Anomalous' else 0).to_numpy()\n",
    "## for breast dataset\n",
    "# train_x = train_table.drop(columns=['Status']).to_numpy()\n",
    "# train_y = train_table['Status'].apply(lambda x: 1 if x=='Alive' else 0).to_numpy()\n",
    "# test_x = test_table.drop(columns=['Status']).to_numpy()\n",
    "# test_y = test_table['Status'].apply(lambda x: 1 if x=='Alive' else 0).to_numpy()\n",
    "# ## for company bankruptcy\n",
    "# train_x = train_table.drop(columns=['Bankrupt?']).to_numpy()\n",
    "# train_y = train_table['Bankrupt?'].to_numpy()\n",
    "# test_x = test_table.drop(columns=['Bankrupt?']).to_numpy()\n",
    "# test_y = test_table['Bankrupt?'].to_numpy()\n",
    "## for glass\n",
    "# mapping = {1:0, 2:1, 3:2, 5:3, 6:4, 7:5}\n",
    "# train_x = train_table.drop(columns=['Type']).to_numpy()\n",
    "# train_y = train_table['Type'].apply(lambda x: mapping[x]).to_numpy()\n",
    "# test_x = test_table.drop(columns=['Type']).to_numpy()\n",
    "# test_y = test_table['Type'].apply(lambda x: mapping[x]).to_numpy()\n",
    "##for KDD\n",
    "mapping = {\n",
    "    'normal':0, \n",
    "    'back':1, #dos\n",
    "    'satan':2, #probe\n",
    "    'warezclient':3 #r2l\n",
    "}\n",
    "train_x = train_table.drop(columns=['label']).to_numpy()\n",
    "train_y = train_table['label'].apply(lambda x: mapping[x]).to_numpy()\n",
    "test_x = test_table.drop(columns=['label']).to_numpy()\n",
    "test_y = test_table['label'].apply(lambda x: mapping[x]).to_numpy()"
   ]
  },
  {
   "cell_type": "code",
   "execution_count": null,
   "id": "73c232a9-768f-49b2-8075-83c89d444fbf",
   "metadata": {},
   "outputs": [],
   "source": [
    "import imp\n",
    "import base_tree\n",
    "imp.reload(base_tree)\n",
    "from base_tree import DecisionTreeClassifier"
   ]
  },
  {
   "cell_type": "code",
   "execution_count": null,
   "id": "8a4221c3-8135-4c3b-9b5a-93e76c8e3261",
   "metadata": {},
   "outputs": [],
   "source": [
    "data_table.describe(include='all')"
   ]
  },
  {
   "cell_type": "code",
   "execution_count": null,
   "id": "897fceb5-0436-43a2-b1e1-e61a4ea1c42d",
   "metadata": {},
   "outputs": [],
   "source": [
    "data_table['src_bytes'].max()"
   ]
  },
  {
   "cell_type": "code",
   "execution_count": null,
   "id": "60fb25ed-4dc5-4a47-8768-5c367aec08ce",
   "metadata": {},
   "outputs": [],
   "source": [
    "# Create a Decision Tree classifier\n",
    "feature_names = train_table.drop(columns=['label']).columns\n",
    "class_names = list(mapping.keys())\n",
    "clf = DecisionTreeClassifier(\n",
    "    criterion='gini', \n",
    "    random_state=42, \n",
    "    build_method='bfs',\n",
    "    max_depth=7, \n",
    "    feature_name=feature_names,\n",
    "    class_name=class_names\n",
    ")\n",
    "# Fit the classifier to the training data\n",
    "clf.fit(train_x, train_y)\n",
    "# Print the accuracy of the model\n",
    "accuracy = clf.score(test_x, test_y)\n",
    "print(f\"Accuracy: {accuracy:.2f}\")"
   ]
  },
  {
   "cell_type": "code",
   "execution_count": null,
   "id": "35b0a85d-9a01-4729-a185-16ee5cfb05f0",
   "metadata": {},
   "outputs": [],
   "source": [
    "from visual import print_tree\n",
    "print_tree(\n",
    "    tree=clf,\n",
    "    feature_names=feature_names,\n",
    "    class_names=class_names,\n",
    "    is_classifier=True,\n",
    "    figsize = (16, 12),\n",
    "    fontsize = 10,\n",
    "    dpi=200\n",
    ")"
   ]
  },
  {
   "cell_type": "code",
   "execution_count": null,
   "id": "83560e3b-1847-489f-93e9-c1861dc9cc79",
   "metadata": {},
   "outputs": [],
   "source": [
    "clf._n_features"
   ]
  },
  {
   "cell_type": "code",
   "execution_count": null,
   "id": "5d486ca9-ba17-470d-99c0-14540a759e90",
   "metadata": {},
   "outputs": [],
   "source": [
    "data = load_breast_cancer()\n",
    "train_x, test_x, train_y, test_y = train_test_split(data.data, data.target, test_size=0.5)"
   ]
  },
  {
   "cell_type": "code",
   "execution_count": null,
   "id": "fe1ac1d1-be83-470d-a143-c0874223708f",
   "metadata": {},
   "outputs": [],
   "source": [
    "pd.DataFrame(data['data'], columns=data.feature_names).describe(include='all')"
   ]
  },
  {
   "cell_type": "code",
   "execution_count": null,
   "id": "23979f72-7db1-448f-8050-ce67711a7b26",
   "metadata": {},
   "outputs": [],
   "source": [
    "data.feature_names[7]"
   ]
  },
  {
   "cell_type": "code",
   "execution_count": null,
   "id": "d3d5a1db-6f46-49f4-b613-949e909fe6bc",
   "metadata": {},
   "outputs": [],
   "source": [
    "data.target_names"
   ]
  },
  {
   "cell_type": "code",
   "execution_count": null,
   "id": "c1a0d853-f835-4eb8-ada9-1f3a08a75c1d",
   "metadata": {},
   "outputs": [],
   "source": [
    "import imp\n",
    "import base_tree\n",
    "imp.reload(base_tree)\n",
    "from base_tree import DecisionTreeClassifier"
   ]
  },
  {
   "cell_type": "code",
   "execution_count": null,
   "id": "4edeaacc-8ae4-4947-af00-a6913c8d9c31",
   "metadata": {},
   "outputs": [],
   "source": [
    "# Create a Decision Tree classifier\n",
    "clf = DecisionTreeClassifier(\n",
    "    criterion='gini', \n",
    "    random_state=42, \n",
    "    max_depth=6,\n",
    "    feature_name=data.feature_names,\n",
    "    class_name=data.target_names\n",
    ")\n",
    "# Fit the classifier to the training data\n",
    "clf.fit(train_x, train_y)\n",
    "# Print the accuracy of the model\n",
    "accuracy = clf.score(test_x, test_y)\n",
    "print(f\"Accuracy: {accuracy:.2f}\")"
   ]
  },
  {
   "cell_type": "code",
   "execution_count": null,
   "id": "699ed117-47d6-4af7-964d-f8726741e7b5",
   "metadata": {
    "scrolled": true
   },
   "outputs": [],
   "source": [
    "# _, ax = plt.subplots(figsize = (16, 16), dpi=200)\n",
    "# plot_tree(\n",
    "#     clf,\n",
    "#     feature_names=data.feature_names,\n",
    "#     class_names=data.target_names,\n",
    "#     filled=True,\n",
    "#     ax = ax\n",
    "# )"
   ]
  },
  {
   "cell_type": "code",
   "execution_count": null,
   "id": "ce1fe5b5-ea1a-44bd-8a3f-b9facdd78edb",
   "metadata": {},
   "outputs": [],
   "source": [
    "from visual import print_tree"
   ]
  },
  {
   "cell_type": "code",
   "execution_count": null,
   "id": "2d50dfe5-102e-4d4d-9872-6ba41ceef994",
   "metadata": {},
   "outputs": [],
   "source": [
    "print_tree(\n",
    "    tree=clf,\n",
    "    feature_names=data.feature_names,\n",
    "    class_names=data.target_names,\n",
    "    is_classifier=True,\n",
    "    figsize = (16, 12),\n",
    "    fontsize = 10,\n",
    "    dpi=200\n",
    ")"
   ]
  },
  {
   "cell_type": "code",
   "execution_count": 68,
   "id": "20f21a1a-beea-4404-a489-f46f29c6ff51",
   "metadata": {},
   "outputs": [],
   "source": [
    "import imp\n",
    "import prompt_adapter\n",
    "imp.reload(prompt_adapter)\n",
    "from prompt_adapter import _get_condition,_get_query,get_options\n",
    "from prompt_adapter import get_explanation_prompt, get_explanation_result, get_selection_prompt, get_selection_result"
   ]
  },
  {
   "cell_type": "code",
   "execution_count": 51,
   "id": "cf1e1bc6-0a13-413d-8f52-1b23e0556bf8",
   "metadata": {},
   "outputs": [
    {
     "name": "stdout",
     "output_type": "stream",
     "text": [
      "Al Aluminum, range from 0.1 to 0.5, if it < 0.25, why these instances have 97.3% possibility to be building_windows_non_float_processed? \n"
     ]
    }
   ],
   "source": [
    "query = _get_query(\n",
    "    feature='Al Aluminum',\n",
    "    val_range=(0.1, 0.5),\n",
    "    det='<',\n",
    "    val=0.25,\n",
    "    condition={'possibility':97.3, 'result':'building_windows_non_float_processed'}\n",
    ")\n",
    "print(query)"
   ]
  },
  {
   "cell_type": "code",
   "execution_count": 57,
   "id": "440eeaa3-2d2b-4278-85db-c5c5ab834cc1",
   "metadata": {
    "scrolled": true
   },
   "outputs": [
    {
     "name": "stdout",
     "output_type": "stream",
     "text": [
      "\n",
      "Question: The Iris flower data set is a multivariate data set introduced by the British statistician and biologist Ronald Fisher in his 1936 paper The use of multiple measurements in taxonomic problems. It is sometimes called Anderson's Iris data set because Edgar Anderson collected the data to quantify the morphologic variation of Iris flowers of three related species. The data set consists of 50 samples from each of three species of Iris (Iris Setosa, Iris virginica, and Iris versicolor). Four features were measured from each sample: the length and the width of the sepals and petals, in centimeters. Assume you are an botanist, please explain that petal width, range from 0.1 to 2.5 (cm), if it is less than 0.8, why these instances are most likely to be setosa ?\n",
      "Your explanation:\n",
      "Iris Setosa is typically distinguished by its smaller petal width, usually less than 0.8 cm, compared to Iris Versicolor and Iris Virginica. This characteristic likely results from evolutionary adaptations to specific ecological niches or pollination strategies. As such, a petal width below 0.8 cm is a strong indicator of Iris Setosa, aiding botanists in species classification.\n",
      "\n",
      "\n",
      "Question: This dataset of breast cancer patients was obtained from the 2017 November update of the SEER Program of the NCI, which provides information on population-based cancer statistics. The dataset involved female patients with infiltrating duct and lobular carcinoma breast cancer (SEER primary cites recode NOS histology codes 8522/3) diagnosed in 2006-2010. Patients with unknown tumour size, examined regional LNs, positive regional LNs, and patients whose survival months were less than 1 month were excluded; thus, 4024 patients were ultimately included. Given a group of instances satisfy that: Survival Months (range from 1 to 107) is a statistical feature that means how long a patient has survived since being diagnosed. For early-stage breast cancer, where the cancer is localized and has not spread beyond the breast or nearby lymph nodes, the 5-year survival rate is relatively high. Therefore, instances of Survival Months <= 47.5 are likely to be benign. Assume you are an expert of Breast surgeons, given instances of above attributes, please explain that Estrogen Status, category of [False, True], if it is False, why these instances have 97% possibility to be dead ?\n",
      "Your explanation:\n",
      "In the context of breast cancer, estrogen receptor-negative (ER-negative) tumors, indicated by \"False\" estrogen status, do not have receptors for estrogen and therefore do not respond to hormonal therapies like tamoxifen or aromatase inhibitors. These therapies are effective in treating estrogen receptor-positive (ER-positive) tumors, which can grow in response to estrogen and often have better survival outcomes due to the efficacy of these treatments. ER-negative breast cancers, however, are more challenging to treat because they require alternative therapeutic strategies such as chemotherapy, which may not be as effective. Consequently, ER-negative tumors tend to be more aggressive and are often associated with poorer prognoses and higher mortality rates. In the given dataset, where survival months range from 1 to 107 and instances with survival months ≤ 47.5 are considered likely to be less aggressive, the strong correlation between ER-negative status and a 97% possibility of mortality underscores the aggressive nature and treatment challenges of ER-negative breast cancer, resulting in poorer survival outcomes.\n",
      "\n",
      "\n",
      "Question: Company Bankruptcy Prediction dataset were built from the Taiwan Economic Jouranl for the years 1999 to 2009. Company bankruptcy was defined based on the business regulations of the Taiwan Stock Exchange. Given a group of instances satisfy that: The low EPS-Net Income indicates weak profitability, while the low Quick Ratio suggests serious liquidity problems. Together, these factors could point to a higher risk of financial distress or bankruptcy. Assume you are a economist, given instances of above attributes, please explain that Non-industry income and expenditure/revenue: Net Non-operating Income Ratio, which is range from 0.0 to 1.0, if it is less than 0.3, why these instances have 95% possibility to be bankrupt?\n",
      "Your explanation:\n",
      "A Net Non-operating Income Ratio of less than 0.3 indicates a high probability of bankruptcy because it suggests the company heavily depends on its core operations for revenue without significant contributions from non-operating activities. This lack of diversification means the company doesn't have a financial buffer to rely on during times of operational distress, which is exacerbated when combined with low EPS and a low Quick Ratio, indicating weak profitability and serious liquidity issues. Without substantial non-operating income to support cash flow and meet liabilities, the company is at a heightened risk of insolvency, especially when historical data shows that such financial profiles frequently lead to bankruptcy.\n",
      "\n",
      "\n",
      "Question: This is a Glass Identification Data Set from UCI. It contains 10 attributes with unit measurement expect RI that weight percent in corresponding oxide. The response is glass type containing building_windows_float_processed, building_windows_non_float_processed, vehicle_windows_float_processed, containers, tableware and headlamps. Given a group of instances satisfy that: Ba < 0.335, which indicates that the glass has a low barium content, suggesting it is less likely to be a type of glass that requires a high density or high refractive index, such as certain types of optical glass, and Mg > 2.78, which suggests that the glass may be designed for improved chemical durability and resistance to weathering. Magnesium is not typically present in high amounts in standard soda-lime glass, which is commonly used in windows. Those glass of above attributes are likely to be non-float processed. Assume you are a chemist, given instances of above attributes, please explain that Al Aluminum, range from 0.29 to 3.5, if it is greater than 1.42, why these instances have 70% possibility to be building_windows_non_float_processed ?\n",
      "Your explanation:\n",
      "In the Glass Identification Data Set, instances with low barium content (Ba < 0.335) and high magnesium content (Mg > 2.78) suggest glass that does not require high density or refractive index, and instead is designed for improved chemical durability and resistance to weathering. These characteristics are less typical of standard soda-lime glass used in windows, indicating a likelihood of being non-float processed. When the aluminum content (Al) is greater than 1.42, there's a 70% probability that the glass is used for building windows that are non-float processed. This is because higher aluminum content enhances chemical durability, thermal stability, and resistance to weathering—properties essential for building materials exposed to environmental elements. Non-float processed glass might require such compositions due to different manufacturing techniques that do not use molten metal beds, thereby necessitating a formulation with higher aluminum for achieving desired durability and stability.\n",
      "\n",
      "\n",
      "Question: The target for this dataset is to build a network intrusion detector, a predictive model capable of distinguishing between bad connections, called intrusions or attacks, and normal connections. Attacks fall into four main categories: normal; DOS: denial-of-service; probe; R2L: unauthorized access from a remote machine, e.g. guessing password; Given a group of instances satisfy that: num_compromised < 0.5, which is range from 0.0 to 1, and diff_srv_rate (% of connections to different services, is Traffic features computed using a two-second time window.), which is range from 0.0 to 1.0. This group of instances is likely to be probe attacks as it often involve scanning or reconnaissance activities aimed at gathering information about the network or services available. Assume you are a expert of computer science, given instances of above attributes, please explain that src_bytes, number of data bytes from source to destination, range from 0 to 50000, if it is less than 7, why these instances are nearly certain be probe attack ?\n",
      "Your explanation:\n",
      "In the context of network intrusion detection, probe attacks are characterized by scanning or reconnaissance activities aimed at gathering information about the network or available services. These activities typically involve sending minimal data to various parts of the network to identify weaknesses or open ports. The attribute `src_bytes`, representing the number of data bytes sent from source to destination, often provides insights into the nature of the traffic. Probe attacks usually result in low `src_bytes` values because the goal is to gather information rather than transfer large amounts of data. When `src_bytes` is less than 7, it suggests minimal data transfer, indicative of simple connection attempts or requests, such as basic pings or SYN packets, which are typical of probing activities. Additionally, the conditions of `num_compromised < 0.5` and low `diff_srv_rate` support this inference, as they indicate a lack of significant compromise signs and low diversity in service access, respectively. Thus, instances with `src_bytes` less than 7 are highly indicative of probe attacks, aligning with their behavior of minimal data exchange aimed at information gathering.\n",
      "\n",
      "\n",
      "Question: This is a Glass Identification Data Set from UCI. It contains 10 attributes with unit measurement expect RI that weight percent in corresponding oxide. The response is glass type containing building_windows_float_processed, building_windows_non_float_processed, vehicle_windows_float_processed, containers, tableware and headlamps. Given a group of instances satisfy that:Ba < 0.335, which indicates that the glass has a low barium content, suggesting it is less likely to be a type of glass that requires a high density or high refractive index, such as certain types of optical glass, and Mg > 2.78, which suggests that the glass may be designed for improved chemical durability and resistance to weathering. Magnesium is not typically present in high amounts in standard soda-lime glass, which is commonly used in windows. Those glass of above attributes are likely to be non-float processed. Assume you are a doctorgiven instances of above attributes, please explain that \n",
      "Al Aluminum, range from 0.1 to 0.5, if it < 0.25, why these instances have 97.3% possibility to be building_windows_non_float_processed? \n",
      "Your explanation:\n",
      "\n"
     ]
    }
   ],
   "source": [
    "desc='This is a Glass Identification Data Set from UCI. It contains 10 attributes with unit measurement expect RI that weight \\\n",
    "percent in corresponding oxide. The response is glass type containing building_windows_float_processed, \\\n",
    "building_windows_non_float_processed, vehicle_windows_float_processed, containers, tableware and headlamps.'\n",
    "role='doctor'\n",
    "query={\n",
    "    'feature':'Al Aluminum',\n",
    "    'val_range':(0.1, 0.5),\n",
    "    'det':'<',\n",
    "    'val':0.25,\n",
    "    'condition':{'possibility':97.3, 'result':'building_windows_non_float_processed'}\n",
    "}\n",
    "premise='Ba < 0.335, which indicates that the glass has a low barium content, suggesting it is less likely to be a type of glass \\\n",
    "that requires a high density or high refractive index, such as certain types of optical glass, and Mg > 2.78, which suggests \\\n",
    "that the glass may be designed for improved chemical durability and resistance to weathering. Magnesium is not typically present \\\n",
    "in high amounts in standard soda-lime glass, which is commonly used in windows. Those glass of above attributes are \\\n",
    "likely to be non-float processed.'\n",
    "print(get_explanation_prompt(\n",
    "    desc=desc,\n",
    "    role=role,\n",
    "    query=query,\n",
    "    premise=premise\n",
    "))"
   ]
  },
  {
   "cell_type": "code",
   "execution_count": 61,
   "id": "7b2fc448-c2b7-4e3e-a94c-819abff5cf5b",
   "metadata": {},
   "outputs": [
    {
     "name": "stdout",
     "output_type": "stream",
     "text": [
      "True Iris Setosa is typically distinguished by its smaller petal width, usually less than 0.8 cm, compared to Iris Versicolor and Iris Virginica. This characteristic likely results from evolutionary adaptations to specific ecological niches or pollination strategies. As such, a petal width below 0.8 cm is a strong indicator of Iris Setosa, aiding botanists in species classification.\n"
     ]
    }
   ],
   "source": [
    "response = 'Iris Setosa is typically distinguished by its smaller petal width, usually less than 0.8 cm, \\\n",
    "compared to Iris Versicolor and Iris Virginica. This characteristic likely results from evolutionary adaptations \\\n",
    "to specific ecological niches or pollination strategies. As such, a petal width below 0.8 cm is a strong indicator of \\\n",
    "Iris Setosa, aiding botanists in species classification.'\n",
    "status,res = get_explanation_result(response)\n",
    "print(status, res)"
   ]
  },
  {
   "cell_type": "code",
   "execution_count": 69,
   "id": "45751d28-1694-430d-a620-791cd5de980e",
   "metadata": {},
   "outputs": [
    {
     "name": "stdout",
     "output_type": "stream",
     "text": [
      "{'A': 'RI refractive index, range from 1.51 to 1.53, if it is less than 1.517, if has 73% possibility to be building_windows_non_float_processed.', 'B': 'Ca Calcium, range from 5.4 to 16.2, if it is greater than 8.235, it has 50% possibility to be building_windows_float_processed.', 'C': 'Al Aluminum, range from 0.29 to 3.5, if it is greater than 1.42, it has 70% possibility to be building_windows_non_float_processed.', 'D': 'K Potassium, range from 0.0 to 6.21, if it is less than 0.03, it has 70% possibility to be tableware.'}\n",
      "A. RI refractive index, range from 1.51 to 1.53, if it is less than 1.517, if has 73% possibility to be building_windows_non_float_processed.\n",
      "B. Ca Calcium, range from 5.4 to 16.2, if it is greater than 8.235, it has 50% possibility to be building_windows_float_processed.\n",
      "C. Al Aluminum, range from 0.29 to 3.5, if it is greater than 1.42, it has 70% possibility to be building_windows_non_float_processed.\n",
      "D. K Potassium, range from 0.0 to 6.21, if it is less than 0.03, it has 70% possibility to be tableware.\n"
     ]
    }
   ],
   "source": [
    "opts = [\n",
    "    'RI refractive index, range from 1.51 to 1.53, if it is less than 1.517, if has 73% possibility to be building_windows_non_float_processed.',\n",
    "    'Ca Calcium, range from 5.4 to 16.2, if it is greater than 8.235, it has 50% possibility to be building_windows_float_processed.',\n",
    "    'Al Aluminum, range from 0.29 to 3.5, if it is greater than 1.42, it has 70% possibility to be building_windows_non_float_processed.',\n",
    "    'K Potassium, range from 0.0 to 6.21, if it is less than 0.03, it has 70% possibility to be tableware.'\n",
    "]\n",
    "selection_dict,selection_text = _get_options(opts)\n",
    "print(selection_dict)\n",
    "print(selection_text)"
   ]
  },
  {
   "cell_type": "code",
   "execution_count": null,
   "id": "90b0c011-b84e-453d-9b0c-062de57cbf66",
   "metadata": {},
   "outputs": [],
   "source": [
    "desc='This is a Glass Identification Data Set from UCI. It contains 10 attributes with unit measurement expect RI that weight \\\n",
    "percent in corresponding oxide. The response is glass type containing building_windows_float_processed, \\\n",
    "building_windows_non_float_processed, vehicle_windows_float_processed, containers, tableware and headlamps.'\n",
    "role='doctor'\n",
    "query={\n",
    "    'feature':'Al Aluminum',\n",
    "    'val_range':(0.1, 0.5),\n",
    "    'det':'<',\n",
    "    'val':0.25,\n",
    "    'condition':{'possibility':97.3, 'result':'building_windows_non_float_processed'}\n",
    "}\n",
    "premise='Ba < 0.335, which indicates that the glass has a low barium content, suggesting it is less likely to be a type of glass \\\n",
    "that requires a high density or high refractive index, such as certain types of optical glass, and Mg > 2.78, which suggests \\\n",
    "that the glass may be designed for improved chemical durability and resistance to weathering. Magnesium is not typically present \\\n",
    "in high amounts in standard soda-lime glass, which is commonly used in windows. Those glass of above attributes are \\\n",
    "likely to be non-float processed.'\n",
    "print(get_selection_prompt(\n",
    "    desc=desc,\n",
    "    role=role,\n",
    "    options=_get_options(opts),\n",
    "    premise=premise\n",
    "))"
   ]
  }
 ],
 "metadata": {
  "kernelspec": {
   "display_name": "Python 3 (ipykernel)",
   "language": "python",
   "name": "python3"
  },
  "language_info": {
   "codemirror_mode": {
    "name": "ipython",
    "version": 3
   },
   "file_extension": ".py",
   "mimetype": "text/x-python",
   "name": "python",
   "nbconvert_exporter": "python",
   "pygments_lexer": "ipython3",
   "version": "3.10.12"
  }
 },
 "nbformat": 4,
 "nbformat_minor": 5
}
